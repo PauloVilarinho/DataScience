{
  "nbformat": 4,
  "nbformat_minor": 0,
  "metadata": {
    "colab": {
      "name": "Airbnb_NewYork_Analysis.ipynb",
      "provenance": [],
      "collapsed_sections": [],
      "toc_visible": true,
      "include_colab_link": true
    },
    "kernelspec": {
      "name": "python3",
      "display_name": "Python 3"
    }
  },
  "cells": [
    {
      "cell_type": "markdown",
      "metadata": {
        "id": "view-in-github",
        "colab_type": "text"
      },
      "source": [
        "<a href=\"https://colab.research.google.com/github/PauloVilarinho/DataScience/blob/master/Projects/NewYorkAirbnbAirbnb_NewYork_Analysis.ipynb\" target=\"_parent\"><img src=\"https://colab.research.google.com/assets/colab-badge.svg\" alt=\"Open In Colab\"/></a>"
      ]
    },
    {
      "cell_type": "markdown",
      "metadata": {
        "id": "kLI0gJtzDGuQ",
        "colab_type": "text"
      },
      "source": [
        "# Airbnb Data Analysis - *New York*\n",
        "\n",
        "The [Airbnb](https://www.airbnb.com/) is considered to be  **the largest hotel bussiness in the world**. Even though **Airbnb doens’t own any hotel**!\n",
        "\n",
        "Connecting people that want to travel, and need a place to crash on, with hosts that need to rent their unused apartments. The Airbnb is an inovative solution that is taking over the world, providing a easy way to connect those people. \n",
        "\n",
        "At the end of 2018, the Startup had already connected **over 300 million people around the world**, proving to be a massive power in the tourism industry.\n",
        "\n",
        "One of the Airbnb projects is to provide data from most of the most important cities in the world. This data is provided at the [Inside Airbnb](http://insideairbnb.com/get-the-data.html), being a huge data set for *Data Science* developers.\n",
        "\n",
        "<center><img alt=\"Analisando Airbnb\" width=\"10%\" src=\"https://www.area360.com.au/wp-content/uploads/2017/09/airbnb-logo.jpg\"></center>\n",
        "\n",
        "**In this *notebook*, we will analyze the data linked to New York City and see what kind of information we can extract from this data set**"
      ]
    },
    {
      "cell_type": "markdown",
      "metadata": {
        "id": "0zxQHhIUDF_2",
        "colab_type": "text"
      },
      "source": [
        "## Getting the Data\n",
        " All the data used here will be gathered at [Inside Airbnb](http://insideairbnb.com/get-the-data.html).\n",
        "\n",
        "for this introductory analysis, we will only be using this file:\n",
        "* `listings.csv` - \t*Summary information and metrics for listings in New York City (good for visualisations).*\n"
      ]
    },
    {
      "cell_type": "code",
      "metadata": {
        "id": "Vhp2wMPgJ6zX",
        "colab_type": "code",
        "colab": {}
      },
      "source": [
        "# importing the necessary packages\n",
        "import pandas as pd\n",
        "import matplotlib.pyplot as plt\n",
        "import seaborn as sns\n",
        "\n",
        "%matplotlib inline"
      ],
      "execution_count": 0,
      "outputs": []
    },
    {
      "cell_type": "code",
      "metadata": {
        "id": "tUmoAT8DLQ5T",
        "colab_type": "code",
        "colab": {}
      },
      "source": [
        "# getting de the airbnb data and storing it into a DataFrame\n",
        "df = pd.read_csv(\"http://data.insideairbnb.com/united-states/ny/new-york-city/2020-05-06/visualisations/listings.csv\")"
      ],
      "execution_count": 0,
      "outputs": []
    },
    {
      "cell_type": "markdown",
      "metadata": {
        "id": "qb5By2nIMS6m",
        "colab_type": "text"
      },
      "source": [
        "## Analyzing the Data\n"
      ]
    },
    {
      "cell_type": "markdown",
      "metadata": {
        "id": "RYgvuebKNg8-",
        "colab_type": "text"
      },
      "source": [
        "The first step after importing the data set, is to understant what kind of data you`re working with, and the best way to do that, is by doing a variable dictionary\n",
        "\n",
        "**Variable Dictionary**\n",
        "\n",
        "* `id` - number generated to identify the room.\n",
        "* `name` - name of the room.\n",
        "* `host_id` - number generated to identify the host.\n",
        "* `neighbourhood_group` - describes in which district the room is located.\n",
        "* `neighbourhood` - decribes in which neighbourhood the room is located.\n",
        "* `latitude` - float number representing the latitude of the room.\n",
        "* `longitude` - float number representing the longitude of the room.\n",
        "* `room_type` - describes what type of room it is.\n",
        "* `price` - price of the room per night\n",
        "* `minimun_nights` - minimun number of nights to rent the room.\n",
        "* `number_of_reviews` - number of reviews send to this room.\n",
        "* `last_review` - date of the last review send to this room.\n",
        "* `reviews_per_month` - avarage of rates per month to this room.\n",
        "* `calculated_host_listings_count` - total amount of rooms that the owner of this one owns.\n",
        "* `availability_365` -  number of days  that this room is available throughout the whole year\n",
        "\n",
        "Before any further analysis, we will see the firts 10 rows of our data set."
      ]
    },
    {
      "cell_type": "code",
      "metadata": {
        "id": "2iS_dae7YQtO",
        "colab_type": "code",
        "outputId": "4a80f373-ea5f-4f83-834e-31bf794f92ac",
        "colab": {
          "base_uri": "https://localhost:8080/",
          "height": 702
        }
      },
      "source": [
        "# showing the first 10 lines of the DataFrame\n",
        "df.head(10)"
      ],
      "execution_count": 4,
      "outputs": [
        {
          "output_type": "execute_result",
          "data": {
            "text/html": [
              "<div>\n",
              "<style scoped>\n",
              "    .dataframe tbody tr th:only-of-type {\n",
              "        vertical-align: middle;\n",
              "    }\n",
              "\n",
              "    .dataframe tbody tr th {\n",
              "        vertical-align: top;\n",
              "    }\n",
              "\n",
              "    .dataframe thead th {\n",
              "        text-align: right;\n",
              "    }\n",
              "</style>\n",
              "<table border=\"1\" class=\"dataframe\">\n",
              "  <thead>\n",
              "    <tr style=\"text-align: right;\">\n",
              "      <th></th>\n",
              "      <th>id</th>\n",
              "      <th>name</th>\n",
              "      <th>host_id</th>\n",
              "      <th>host_name</th>\n",
              "      <th>neighbourhood_group</th>\n",
              "      <th>neighbourhood</th>\n",
              "      <th>latitude</th>\n",
              "      <th>longitude</th>\n",
              "      <th>room_type</th>\n",
              "      <th>price</th>\n",
              "      <th>minimum_nights</th>\n",
              "      <th>number_of_reviews</th>\n",
              "      <th>last_review</th>\n",
              "      <th>reviews_per_month</th>\n",
              "      <th>calculated_host_listings_count</th>\n",
              "      <th>availability_365</th>\n",
              "    </tr>\n",
              "  </thead>\n",
              "  <tbody>\n",
              "    <tr>\n",
              "      <th>0</th>\n",
              "      <td>2060</td>\n",
              "      <td>Modern NYC</td>\n",
              "      <td>2259</td>\n",
              "      <td>Jenny</td>\n",
              "      <td>Manhattan</td>\n",
              "      <td>Washington Heights</td>\n",
              "      <td>40.85722</td>\n",
              "      <td>-73.93790</td>\n",
              "      <td>Private room</td>\n",
              "      <td>100</td>\n",
              "      <td>1</td>\n",
              "      <td>1</td>\n",
              "      <td>2008-09-22</td>\n",
              "      <td>0.01</td>\n",
              "      <td>1</td>\n",
              "      <td>1</td>\n",
              "    </tr>\n",
              "    <tr>\n",
              "      <th>1</th>\n",
              "      <td>2595</td>\n",
              "      <td>Skylit Midtown Castle</td>\n",
              "      <td>2845</td>\n",
              "      <td>Jennifer</td>\n",
              "      <td>Manhattan</td>\n",
              "      <td>Midtown</td>\n",
              "      <td>40.75362</td>\n",
              "      <td>-73.98377</td>\n",
              "      <td>Entire home/apt</td>\n",
              "      <td>225</td>\n",
              "      <td>3</td>\n",
              "      <td>48</td>\n",
              "      <td>2019-11-04</td>\n",
              "      <td>0.38</td>\n",
              "      <td>2</td>\n",
              "      <td>365</td>\n",
              "    </tr>\n",
              "    <tr>\n",
              "      <th>2</th>\n",
              "      <td>3831</td>\n",
              "      <td>Cozy Entire Floor of Brownstone</td>\n",
              "      <td>4869</td>\n",
              "      <td>LisaRoxanne</td>\n",
              "      <td>Brooklyn</td>\n",
              "      <td>Clinton Hill</td>\n",
              "      <td>40.68514</td>\n",
              "      <td>-73.95976</td>\n",
              "      <td>Entire home/apt</td>\n",
              "      <td>89</td>\n",
              "      <td>1</td>\n",
              "      <td>318</td>\n",
              "      <td>2020-04-26</td>\n",
              "      <td>4.66</td>\n",
              "      <td>1</td>\n",
              "      <td>261</td>\n",
              "    </tr>\n",
              "    <tr>\n",
              "      <th>3</th>\n",
              "      <td>5099</td>\n",
              "      <td>Large Cozy 1 BR Apartment In Midtown East</td>\n",
              "      <td>7322</td>\n",
              "      <td>Chris</td>\n",
              "      <td>Manhattan</td>\n",
              "      <td>Murray Hill</td>\n",
              "      <td>40.74767</td>\n",
              "      <td>-73.97500</td>\n",
              "      <td>Entire home/apt</td>\n",
              "      <td>200</td>\n",
              "      <td>3</td>\n",
              "      <td>78</td>\n",
              "      <td>2019-10-13</td>\n",
              "      <td>0.58</td>\n",
              "      <td>1</td>\n",
              "      <td>0</td>\n",
              "    </tr>\n",
              "    <tr>\n",
              "      <th>4</th>\n",
              "      <td>5121</td>\n",
              "      <td>BlissArtsSpace!</td>\n",
              "      <td>7356</td>\n",
              "      <td>Garon</td>\n",
              "      <td>Brooklyn</td>\n",
              "      <td>Bedford-Stuyvesant</td>\n",
              "      <td>40.68688</td>\n",
              "      <td>-73.95596</td>\n",
              "      <td>Private room</td>\n",
              "      <td>60</td>\n",
              "      <td>29</td>\n",
              "      <td>50</td>\n",
              "      <td>2019-12-02</td>\n",
              "      <td>0.38</td>\n",
              "      <td>1</td>\n",
              "      <td>365</td>\n",
              "    </tr>\n",
              "    <tr>\n",
              "      <th>5</th>\n",
              "      <td>5178</td>\n",
              "      <td>Large Furnished Room Near B'way</td>\n",
              "      <td>8967</td>\n",
              "      <td>Shunichi</td>\n",
              "      <td>Manhattan</td>\n",
              "      <td>Hell's Kitchen</td>\n",
              "      <td>40.76489</td>\n",
              "      <td>-73.98493</td>\n",
              "      <td>Private room</td>\n",
              "      <td>79</td>\n",
              "      <td>2</td>\n",
              "      <td>473</td>\n",
              "      <td>2020-03-15</td>\n",
              "      <td>3.53</td>\n",
              "      <td>1</td>\n",
              "      <td>272</td>\n",
              "    </tr>\n",
              "    <tr>\n",
              "      <th>6</th>\n",
              "      <td>5203</td>\n",
              "      <td>Cozy Clean Guest Room - Family Apt</td>\n",
              "      <td>7490</td>\n",
              "      <td>MaryEllen</td>\n",
              "      <td>Manhattan</td>\n",
              "      <td>Upper West Side</td>\n",
              "      <td>40.80178</td>\n",
              "      <td>-73.96723</td>\n",
              "      <td>Private room</td>\n",
              "      <td>79</td>\n",
              "      <td>2</td>\n",
              "      <td>118</td>\n",
              "      <td>2017-07-21</td>\n",
              "      <td>0.91</td>\n",
              "      <td>1</td>\n",
              "      <td>0</td>\n",
              "    </tr>\n",
              "    <tr>\n",
              "      <th>7</th>\n",
              "      <td>5238</td>\n",
              "      <td>Cute &amp; Cozy Lower East Side 1 bdrm</td>\n",
              "      <td>7549</td>\n",
              "      <td>Ben</td>\n",
              "      <td>Manhattan</td>\n",
              "      <td>Chinatown</td>\n",
              "      <td>40.71344</td>\n",
              "      <td>-73.99037</td>\n",
              "      <td>Entire home/apt</td>\n",
              "      <td>150</td>\n",
              "      <td>1</td>\n",
              "      <td>161</td>\n",
              "      <td>2019-07-29</td>\n",
              "      <td>1.24</td>\n",
              "      <td>4</td>\n",
              "      <td>307</td>\n",
              "    </tr>\n",
              "    <tr>\n",
              "      <th>8</th>\n",
              "      <td>5441</td>\n",
              "      <td>Central Manhattan/near Broadway</td>\n",
              "      <td>7989</td>\n",
              "      <td>Kate</td>\n",
              "      <td>Manhattan</td>\n",
              "      <td>Hell's Kitchen</td>\n",
              "      <td>40.76160</td>\n",
              "      <td>-73.98893</td>\n",
              "      <td>Private room</td>\n",
              "      <td>99</td>\n",
              "      <td>2</td>\n",
              "      <td>213</td>\n",
              "      <td>2020-03-01</td>\n",
              "      <td>1.57</td>\n",
              "      <td>1</td>\n",
              "      <td>0</td>\n",
              "    </tr>\n",
              "    <tr>\n",
              "      <th>9</th>\n",
              "      <td>5552</td>\n",
              "      <td>Spacious river view in the West Village</td>\n",
              "      <td>8380</td>\n",
              "      <td>Maria</td>\n",
              "      <td>Manhattan</td>\n",
              "      <td>West Village</td>\n",
              "      <td>40.73552</td>\n",
              "      <td>-74.01042</td>\n",
              "      <td>Entire home/apt</td>\n",
              "      <td>160</td>\n",
              "      <td>3</td>\n",
              "      <td>66</td>\n",
              "      <td>2019-08-10</td>\n",
              "      <td>0.50</td>\n",
              "      <td>1</td>\n",
              "      <td>116</td>\n",
              "    </tr>\n",
              "  </tbody>\n",
              "</table>\n",
              "</div>"
            ],
            "text/plain": [
              "     id  ... availability_365\n",
              "0  2060  ...                1\n",
              "1  2595  ...              365\n",
              "2  3831  ...              261\n",
              "3  5099  ...                0\n",
              "4  5121  ...              365\n",
              "5  5178  ...              272\n",
              "6  5203  ...                0\n",
              "7  5238  ...              307\n",
              "8  5441  ...                0\n",
              "9  5552  ...              116\n",
              "\n",
              "[10 rows x 16 columns]"
            ]
          },
          "metadata": {
            "tags": []
          },
          "execution_count": 4
        }
      ]
    },
    {
      "cell_type": "markdown",
      "metadata": {
        "id": "WIF5PG9-yFQX",
        "colab_type": "text"
      },
      "source": [
        "Now that we understand this data set, lets try to answer some questions using the information in this data."
      ]
    },
    {
      "cell_type": "markdown",
      "metadata": {
        "id": "6-B_qtEaYEd-",
        "colab_type": "text"
      },
      "source": [
        "### **Q1. How many columns and rows does this data set has? What are the types of the variable at the data set columns?**\n",
        "\n",
        "The next thing we need to do is evaluate the size of the data Set and How this data is stored. "
      ]
    },
    {
      "cell_type": "code",
      "metadata": {
        "id": "TFRK0tniLV-G",
        "colab_type": "code",
        "outputId": "2eb83c54-507b-4c9e-cb44-6342a58338a0",
        "colab": {
          "base_uri": "https://localhost:8080/",
          "height": 357
        }
      },
      "source": [
        "# identify the Data Frame Size\n",
        "\n",
        "print(\"Rows:\\t {}\".format(df.shape[0]))\n",
        "print(\"Columns:\\t {}\\n\".format(df.shape[1]))\n",
        "\n",
        "# verify the data type for each column\n",
        "\n",
        "display(df.dtypes)"
      ],
      "execution_count": 5,
      "outputs": [
        {
          "output_type": "stream",
          "text": [
            "Rows:\t 50246\n",
            "Columns:\t 16\n",
            "\n"
          ],
          "name": "stdout"
        },
        {
          "output_type": "display_data",
          "data": {
            "text/plain": [
              "id                                  int64\n",
              "name                               object\n",
              "host_id                             int64\n",
              "host_name                          object\n",
              "neighbourhood_group                object\n",
              "neighbourhood                      object\n",
              "latitude                          float64\n",
              "longitude                         float64\n",
              "room_type                          object\n",
              "price                               int64\n",
              "minimum_nights                      int64\n",
              "number_of_reviews                   int64\n",
              "last_review                        object\n",
              "reviews_per_month                 float64\n",
              "calculated_host_listings_count      int64\n",
              "availability_365                    int64\n",
              "dtype: object"
            ]
          },
          "metadata": {
            "tags": []
          }
        }
      ]
    },
    {
      "cell_type": "markdown",
      "metadata": {
        "id": "UA3lhAbV4NYP",
        "colab_type": "text"
      },
      "source": [
        "As you can see, we have a data set of 50246 rows and 16 columns, this is not the full data, since we are using a more simplified version of the dataset from Airbnb. The original one has **more than 100 columns**, so, since this is a brief analysis, we will be using this simplefied version. \n",
        "\n"
      ]
    },
    {
      "cell_type": "markdown",
      "metadata": {
        "id": "yz1urSUGW9iE",
        "colab_type": "text"
      },
      "source": [
        "### **Q2. How many rows has empty values in each column*?**\n",
        "\n",
        "the number of empty values is a very important metric to measure the acurracy of the data set, since the emptier a column is the more irrelevant it will be to your analysis."
      ]
    },
    {
      "cell_type": "code",
      "metadata": {
        "id": "plk2FjbCXOqP",
        "colab_type": "code",
        "outputId": "6d27ccab-9c00-443f-af97-652a16f42854",
        "colab": {
          "base_uri": "https://localhost:8080/",
          "height": 439
        }
      },
      "source": [
        "# this function returns True for when the value is empty and False for when its not\n",
        "df.isnull() \n"
      ],
      "execution_count": 6,
      "outputs": [
        {
          "output_type": "execute_result",
          "data": {
            "text/html": [
              "<div>\n",
              "<style scoped>\n",
              "    .dataframe tbody tr th:only-of-type {\n",
              "        vertical-align: middle;\n",
              "    }\n",
              "\n",
              "    .dataframe tbody tr th {\n",
              "        vertical-align: top;\n",
              "    }\n",
              "\n",
              "    .dataframe thead th {\n",
              "        text-align: right;\n",
              "    }\n",
              "</style>\n",
              "<table border=\"1\" class=\"dataframe\">\n",
              "  <thead>\n",
              "    <tr style=\"text-align: right;\">\n",
              "      <th></th>\n",
              "      <th>id</th>\n",
              "      <th>name</th>\n",
              "      <th>host_id</th>\n",
              "      <th>host_name</th>\n",
              "      <th>neighbourhood_group</th>\n",
              "      <th>neighbourhood</th>\n",
              "      <th>latitude</th>\n",
              "      <th>longitude</th>\n",
              "      <th>room_type</th>\n",
              "      <th>price</th>\n",
              "      <th>minimum_nights</th>\n",
              "      <th>number_of_reviews</th>\n",
              "      <th>last_review</th>\n",
              "      <th>reviews_per_month</th>\n",
              "      <th>calculated_host_listings_count</th>\n",
              "      <th>availability_365</th>\n",
              "    </tr>\n",
              "  </thead>\n",
              "  <tbody>\n",
              "    <tr>\n",
              "      <th>0</th>\n",
              "      <td>False</td>\n",
              "      <td>False</td>\n",
              "      <td>False</td>\n",
              "      <td>False</td>\n",
              "      <td>False</td>\n",
              "      <td>False</td>\n",
              "      <td>False</td>\n",
              "      <td>False</td>\n",
              "      <td>False</td>\n",
              "      <td>False</td>\n",
              "      <td>False</td>\n",
              "      <td>False</td>\n",
              "      <td>False</td>\n",
              "      <td>False</td>\n",
              "      <td>False</td>\n",
              "      <td>False</td>\n",
              "    </tr>\n",
              "    <tr>\n",
              "      <th>1</th>\n",
              "      <td>False</td>\n",
              "      <td>False</td>\n",
              "      <td>False</td>\n",
              "      <td>False</td>\n",
              "      <td>False</td>\n",
              "      <td>False</td>\n",
              "      <td>False</td>\n",
              "      <td>False</td>\n",
              "      <td>False</td>\n",
              "      <td>False</td>\n",
              "      <td>False</td>\n",
              "      <td>False</td>\n",
              "      <td>False</td>\n",
              "      <td>False</td>\n",
              "      <td>False</td>\n",
              "      <td>False</td>\n",
              "    </tr>\n",
              "    <tr>\n",
              "      <th>2</th>\n",
              "      <td>False</td>\n",
              "      <td>False</td>\n",
              "      <td>False</td>\n",
              "      <td>False</td>\n",
              "      <td>False</td>\n",
              "      <td>False</td>\n",
              "      <td>False</td>\n",
              "      <td>False</td>\n",
              "      <td>False</td>\n",
              "      <td>False</td>\n",
              "      <td>False</td>\n",
              "      <td>False</td>\n",
              "      <td>False</td>\n",
              "      <td>False</td>\n",
              "      <td>False</td>\n",
              "      <td>False</td>\n",
              "    </tr>\n",
              "    <tr>\n",
              "      <th>3</th>\n",
              "      <td>False</td>\n",
              "      <td>False</td>\n",
              "      <td>False</td>\n",
              "      <td>False</td>\n",
              "      <td>False</td>\n",
              "      <td>False</td>\n",
              "      <td>False</td>\n",
              "      <td>False</td>\n",
              "      <td>False</td>\n",
              "      <td>False</td>\n",
              "      <td>False</td>\n",
              "      <td>False</td>\n",
              "      <td>False</td>\n",
              "      <td>False</td>\n",
              "      <td>False</td>\n",
              "      <td>False</td>\n",
              "    </tr>\n",
              "    <tr>\n",
              "      <th>4</th>\n",
              "      <td>False</td>\n",
              "      <td>False</td>\n",
              "      <td>False</td>\n",
              "      <td>False</td>\n",
              "      <td>False</td>\n",
              "      <td>False</td>\n",
              "      <td>False</td>\n",
              "      <td>False</td>\n",
              "      <td>False</td>\n",
              "      <td>False</td>\n",
              "      <td>False</td>\n",
              "      <td>False</td>\n",
              "      <td>False</td>\n",
              "      <td>False</td>\n",
              "      <td>False</td>\n",
              "      <td>False</td>\n",
              "    </tr>\n",
              "    <tr>\n",
              "      <th>...</th>\n",
              "      <td>...</td>\n",
              "      <td>...</td>\n",
              "      <td>...</td>\n",
              "      <td>...</td>\n",
              "      <td>...</td>\n",
              "      <td>...</td>\n",
              "      <td>...</td>\n",
              "      <td>...</td>\n",
              "      <td>...</td>\n",
              "      <td>...</td>\n",
              "      <td>...</td>\n",
              "      <td>...</td>\n",
              "      <td>...</td>\n",
              "      <td>...</td>\n",
              "      <td>...</td>\n",
              "      <td>...</td>\n",
              "    </tr>\n",
              "    <tr>\n",
              "      <th>50241</th>\n",
              "      <td>False</td>\n",
              "      <td>False</td>\n",
              "      <td>False</td>\n",
              "      <td>False</td>\n",
              "      <td>False</td>\n",
              "      <td>False</td>\n",
              "      <td>False</td>\n",
              "      <td>False</td>\n",
              "      <td>False</td>\n",
              "      <td>False</td>\n",
              "      <td>False</td>\n",
              "      <td>False</td>\n",
              "      <td>True</td>\n",
              "      <td>True</td>\n",
              "      <td>False</td>\n",
              "      <td>False</td>\n",
              "    </tr>\n",
              "    <tr>\n",
              "      <th>50242</th>\n",
              "      <td>False</td>\n",
              "      <td>False</td>\n",
              "      <td>False</td>\n",
              "      <td>False</td>\n",
              "      <td>False</td>\n",
              "      <td>False</td>\n",
              "      <td>False</td>\n",
              "      <td>False</td>\n",
              "      <td>False</td>\n",
              "      <td>False</td>\n",
              "      <td>False</td>\n",
              "      <td>False</td>\n",
              "      <td>True</td>\n",
              "      <td>True</td>\n",
              "      <td>False</td>\n",
              "      <td>False</td>\n",
              "    </tr>\n",
              "    <tr>\n",
              "      <th>50243</th>\n",
              "      <td>False</td>\n",
              "      <td>False</td>\n",
              "      <td>False</td>\n",
              "      <td>False</td>\n",
              "      <td>False</td>\n",
              "      <td>False</td>\n",
              "      <td>False</td>\n",
              "      <td>False</td>\n",
              "      <td>False</td>\n",
              "      <td>False</td>\n",
              "      <td>False</td>\n",
              "      <td>False</td>\n",
              "      <td>True</td>\n",
              "      <td>True</td>\n",
              "      <td>False</td>\n",
              "      <td>False</td>\n",
              "    </tr>\n",
              "    <tr>\n",
              "      <th>50244</th>\n",
              "      <td>False</td>\n",
              "      <td>False</td>\n",
              "      <td>False</td>\n",
              "      <td>False</td>\n",
              "      <td>False</td>\n",
              "      <td>False</td>\n",
              "      <td>False</td>\n",
              "      <td>False</td>\n",
              "      <td>False</td>\n",
              "      <td>False</td>\n",
              "      <td>False</td>\n",
              "      <td>False</td>\n",
              "      <td>True</td>\n",
              "      <td>True</td>\n",
              "      <td>False</td>\n",
              "      <td>False</td>\n",
              "    </tr>\n",
              "    <tr>\n",
              "      <th>50245</th>\n",
              "      <td>False</td>\n",
              "      <td>False</td>\n",
              "      <td>False</td>\n",
              "      <td>False</td>\n",
              "      <td>False</td>\n",
              "      <td>False</td>\n",
              "      <td>False</td>\n",
              "      <td>False</td>\n",
              "      <td>False</td>\n",
              "      <td>False</td>\n",
              "      <td>False</td>\n",
              "      <td>False</td>\n",
              "      <td>True</td>\n",
              "      <td>True</td>\n",
              "      <td>False</td>\n",
              "      <td>False</td>\n",
              "    </tr>\n",
              "  </tbody>\n",
              "</table>\n",
              "<p>50246 rows × 16 columns</p>\n",
              "</div>"
            ],
            "text/plain": [
              "          id   name  ...  calculated_host_listings_count  availability_365\n",
              "0      False  False  ...                           False             False\n",
              "1      False  False  ...                           False             False\n",
              "2      False  False  ...                           False             False\n",
              "3      False  False  ...                           False             False\n",
              "4      False  False  ...                           False             False\n",
              "...      ...    ...  ...                             ...               ...\n",
              "50241  False  False  ...                           False             False\n",
              "50242  False  False  ...                           False             False\n",
              "50243  False  False  ...                           False             False\n",
              "50244  False  False  ...                           False             False\n",
              "50245  False  False  ...                           False             False\n",
              "\n",
              "[50246 rows x 16 columns]"
            ]
          },
          "metadata": {
            "tags": []
          },
          "execution_count": 6
        }
      ]
    },
    {
      "cell_type": "code",
      "metadata": {
        "id": "v-c0qEnAMkKl",
        "colab_type": "code",
        "outputId": "fe27b1c6-a580-4326-8b9d-761adfe64d74",
        "colab": {
          "base_uri": "https://localhost:8080/",
          "height": 306
        }
      },
      "source": [
        "# now we are going to sum all the columns and divide by the number of rows, to see at what rate does each column has empty values\n",
        "(df.isnull().sum() / df.shape[0]).sort_values(ascending=False)"
      ],
      "execution_count": 7,
      "outputs": [
        {
          "output_type": "execute_result",
          "data": {
            "text/plain": [
              "reviews_per_month                 0.219520\n",
              "last_review                       0.219520\n",
              "name                              0.000358\n",
              "host_name                         0.000219\n",
              "availability_365                  0.000000\n",
              "calculated_host_listings_count    0.000000\n",
              "number_of_reviews                 0.000000\n",
              "minimum_nights                    0.000000\n",
              "price                             0.000000\n",
              "room_type                         0.000000\n",
              "longitude                         0.000000\n",
              "latitude                          0.000000\n",
              "neighbourhood                     0.000000\n",
              "neighbourhood_group               0.000000\n",
              "host_id                           0.000000\n",
              "id                                0.000000\n",
              "dtype: float64"
            ]
          },
          "metadata": {
            "tags": []
          },
          "execution_count": 7
        }
      ]
    },
    {
      "cell_type": "markdown",
      "metadata": {
        "id": "DRPb8xHMiiut",
        "colab_type": "text"
      },
      "source": [
        "This percentage shows that 21% of all rooms does not have a review, which probably means that those rooms were never rent."
      ]
    },
    {
      "cell_type": "markdown",
      "metadata": {
        "id": "iHXvvHIxaoNc",
        "colab_type": "text"
      },
      "source": [
        "### **Q3. How the Atributes are distrubuted across the Data Set ?** \n",
        "\n",
        "To see how those variables are distributed, we are going to plot an histogram."
      ]
    },
    {
      "cell_type": "code",
      "metadata": {
        "id": "q2wWSfeRbmBo",
        "colab_type": "code",
        "outputId": "8e2046f8-df1d-489c-a35b-ca9b4948f3dc",
        "colab": {
          "base_uri": "https://localhost:8080/",
          "height": 607
        }
      },
      "source": [
        "# plot histogram of numeric values\n",
        "\n",
        "df.hist(bins=15, figsize=(15,10) );\n"
      ],
      "execution_count": 8,
      "outputs": [
        {
          "output_type": "display_data",
          "data": {
            "image/png": "[encoded data removed]",
            "text/plain": [
              "<Figure size 1080x720 with 12 Axes>"
            ]
          },
          "metadata": {
            "tags": [],
            "needs_background": "light"
          }
        }
      ]
    },
    {
      "cell_type": "markdown",
      "metadata": {
        "id": "8XHW6583XUDH",
        "colab_type": "text"
      },
      "source": [
        "This is a large amount of information to sink in, so let`s go step by step.\n",
        "\n",
        "As you guys can see a huge amount of rooms are only available through a small portion of the year, represented by this huge bar at the beginning of the histogram, but there is also an expressive amount of rooms that is available throughout the whole year, represented by the bar at the end.\n",
        "\n",
        "Looking at the `calculated_host_listing_counts` variable, you can see something realy odd, there is a small bar that says that are more than 100 apartaments with this value above 200. So let`s take a look at this data by filtering the rows.\n",
        "\n"
      ]
    },
    {
      "cell_type": "code",
      "metadata": {
        "id": "7qs5C-pOWmNa",
        "colab_type": "code",
        "outputId": "16a23729-42c7-420e-95df-d3e58a5c04bc",
        "colab": {
          "base_uri": "https://localhost:8080/",
          "height": 1000
        }
      },
      "source": [
        "#list of rooms with more than 200 calculated_host_listings_count\n",
        "df[df['calculated_host_listings_count'] > 200]"
      ],
      "execution_count": 9,
      "outputs": [
        {
          "output_type": "execute_result",
          "data": {
            "text/html": [
              "<div>\n",
              "<style scoped>\n",
              "    .dataframe tbody tr th:only-of-type {\n",
              "        vertical-align: middle;\n",
              "    }\n",
              "\n",
              "    .dataframe tbody tr th {\n",
              "        vertical-align: top;\n",
              "    }\n",
              "\n",
              "    .dataframe thead th {\n",
              "        text-align: right;\n",
              "    }\n",
              "</style>\n",
              "<table border=\"1\" class=\"dataframe\">\n",
              "  <thead>\n",
              "    <tr style=\"text-align: right;\">\n",
              "      <th></th>\n",
              "      <th>id</th>\n",
              "      <th>name</th>\n",
              "      <th>host_id</th>\n",
              "      <th>host_name</th>\n",
              "      <th>neighbourhood_group</th>\n",
              "      <th>neighbourhood</th>\n",
              "      <th>latitude</th>\n",
              "      <th>longitude</th>\n",
              "      <th>room_type</th>\n",
              "      <th>price</th>\n",
              "      <th>minimum_nights</th>\n",
              "      <th>number_of_reviews</th>\n",
              "      <th>last_review</th>\n",
              "      <th>reviews_per_month</th>\n",
              "      <th>calculated_host_listings_count</th>\n",
              "      <th>availability_365</th>\n",
              "    </tr>\n",
              "  </thead>\n",
              "  <tbody>\n",
              "    <tr>\n",
              "      <th>22783</th>\n",
              "      <td>20845031</td>\n",
              "      <td>Homey Midtown East 1BR w/ Gym, Doorman, near t...</td>\n",
              "      <td>107434423</td>\n",
              "      <td>Blueground</td>\n",
              "      <td>Manhattan</td>\n",
              "      <td>Kips Bay</td>\n",
              "      <td>40.74572</td>\n",
              "      <td>-73.97986</td>\n",
              "      <td>Entire home/apt</td>\n",
              "      <td>216</td>\n",
              "      <td>30</td>\n",
              "      <td>0</td>\n",
              "      <td>NaN</td>\n",
              "      <td>NaN</td>\n",
              "      <td>294</td>\n",
              "      <td>318</td>\n",
              "    </tr>\n",
              "    <tr>\n",
              "      <th>25267</th>\n",
              "      <td>22370388</td>\n",
              "      <td>Calming FiDi 1BR w/ lux Gym, Speakeasy + Doorm...</td>\n",
              "      <td>107434423</td>\n",
              "      <td>Blueground</td>\n",
              "      <td>Manhattan</td>\n",
              "      <td>Financial District</td>\n",
              "      <td>40.70558</td>\n",
              "      <td>-74.00838</td>\n",
              "      <td>Entire home/apt</td>\n",
              "      <td>239</td>\n",
              "      <td>30</td>\n",
              "      <td>1</td>\n",
              "      <td>2018-08-17</td>\n",
              "      <td>0.05</td>\n",
              "      <td>294</td>\n",
              "      <td>218</td>\n",
              "    </tr>\n",
              "    <tr>\n",
              "      <th>26111</th>\n",
              "      <td>23264421</td>\n",
              "      <td>Mod Midtown East 1BR w/ Gym, walk to Grand Cen...</td>\n",
              "      <td>107434423</td>\n",
              "      <td>Blueground</td>\n",
              "      <td>Manhattan</td>\n",
              "      <td>Murray Hill</td>\n",
              "      <td>40.74841</td>\n",
              "      <td>-73.97987</td>\n",
              "      <td>Entire home/apt</td>\n",
              "      <td>271</td>\n",
              "      <td>30</td>\n",
              "      <td>0</td>\n",
              "      <td>NaN</td>\n",
              "      <td>NaN</td>\n",
              "      <td>294</td>\n",
              "      <td>281</td>\n",
              "    </tr>\n",
              "    <tr>\n",
              "      <th>26334</th>\n",
              "      <td>23538486</td>\n",
              "      <td>Posh Park Avenue 1BR w/ Gym, Doorman in Midtow...</td>\n",
              "      <td>107434423</td>\n",
              "      <td>Blueground</td>\n",
              "      <td>Manhattan</td>\n",
              "      <td>Murray Hill</td>\n",
              "      <td>40.74841</td>\n",
              "      <td>-73.97987</td>\n",
              "      <td>Entire home/apt</td>\n",
              "      <td>204</td>\n",
              "      <td>30</td>\n",
              "      <td>1</td>\n",
              "      <td>2019-01-15</td>\n",
              "      <td>0.06</td>\n",
              "      <td>294</td>\n",
              "      <td>365</td>\n",
              "    </tr>\n",
              "    <tr>\n",
              "      <th>27187</th>\n",
              "      <td>24535218</td>\n",
              "      <td>Luxury Tribeca 1BR w/ Gym, Doorman + Roof deck...</td>\n",
              "      <td>107434423</td>\n",
              "      <td>Blueground</td>\n",
              "      <td>Manhattan</td>\n",
              "      <td>Tribeca</td>\n",
              "      <td>40.71383</td>\n",
              "      <td>-74.01024</td>\n",
              "      <td>Entire home/apt</td>\n",
              "      <td>255</td>\n",
              "      <td>30</td>\n",
              "      <td>0</td>\n",
              "      <td>NaN</td>\n",
              "      <td>NaN</td>\n",
              "      <td>294</td>\n",
              "      <td>219</td>\n",
              "    </tr>\n",
              "    <tr>\n",
              "      <th>...</th>\n",
              "      <td>...</td>\n",
              "      <td>...</td>\n",
              "      <td>...</td>\n",
              "      <td>...</td>\n",
              "      <td>...</td>\n",
              "      <td>...</td>\n",
              "      <td>...</td>\n",
              "      <td>...</td>\n",
              "      <td>...</td>\n",
              "      <td>...</td>\n",
              "      <td>...</td>\n",
              "      <td>...</td>\n",
              "      <td>...</td>\n",
              "      <td>...</td>\n",
              "      <td>...</td>\n",
              "      <td>...</td>\n",
              "    </tr>\n",
              "    <tr>\n",
              "      <th>48729</th>\n",
              "      <td>42806911</td>\n",
              "      <td>Sleek Chelsea 2BR, w/ Washer &amp; Dryer in unit, ...</td>\n",
              "      <td>107434423</td>\n",
              "      <td>Blueground</td>\n",
              "      <td>Manhattan</td>\n",
              "      <td>Chelsea</td>\n",
              "      <td>40.74437</td>\n",
              "      <td>-73.99319</td>\n",
              "      <td>Entire home/apt</td>\n",
              "      <td>235</td>\n",
              "      <td>30</td>\n",
              "      <td>0</td>\n",
              "      <td>NaN</td>\n",
              "      <td>NaN</td>\n",
              "      <td>294</td>\n",
              "      <td>0</td>\n",
              "    </tr>\n",
              "    <tr>\n",
              "      <th>48824</th>\n",
              "      <td>42868618</td>\n",
              "      <td>Airy Midtown West 1BR w/ DM, Gym, W/D, nr. Tim...</td>\n",
              "      <td>107434423</td>\n",
              "      <td>Blueground</td>\n",
              "      <td>Manhattan</td>\n",
              "      <td>Hell's Kitchen</td>\n",
              "      <td>40.76206</td>\n",
              "      <td>-73.99886</td>\n",
              "      <td>Entire home/apt</td>\n",
              "      <td>229</td>\n",
              "      <td>30</td>\n",
              "      <td>0</td>\n",
              "      <td>NaN</td>\n",
              "      <td>NaN</td>\n",
              "      <td>294</td>\n",
              "      <td>0</td>\n",
              "    </tr>\n",
              "    <tr>\n",
              "      <th>48825</th>\n",
              "      <td>42868661</td>\n",
              "      <td>Cozy Hell's Kitchen 1BR w/ Pool, Gym, Doorman,...</td>\n",
              "      <td>107434423</td>\n",
              "      <td>Blueground</td>\n",
              "      <td>Manhattan</td>\n",
              "      <td>Hell's Kitchen</td>\n",
              "      <td>40.76057</td>\n",
              "      <td>-73.99668</td>\n",
              "      <td>Entire home/apt</td>\n",
              "      <td>240</td>\n",
              "      <td>30</td>\n",
              "      <td>0</td>\n",
              "      <td>NaN</td>\n",
              "      <td>NaN</td>\n",
              "      <td>294</td>\n",
              "      <td>0</td>\n",
              "    </tr>\n",
              "    <tr>\n",
              "      <th>48981</th>\n",
              "      <td>42938323</td>\n",
              "      <td>Ideal Kips Bay 1BR w/ Doorman, Elevator, Gym, ...</td>\n",
              "      <td>107434423</td>\n",
              "      <td>Blueground</td>\n",
              "      <td>Manhattan</td>\n",
              "      <td>Kips Bay</td>\n",
              "      <td>40.74160</td>\n",
              "      <td>-73.97859</td>\n",
              "      <td>Entire home/apt</td>\n",
              "      <td>182</td>\n",
              "      <td>30</td>\n",
              "      <td>0</td>\n",
              "      <td>NaN</td>\n",
              "      <td>NaN</td>\n",
              "      <td>294</td>\n",
              "      <td>304</td>\n",
              "    </tr>\n",
              "    <tr>\n",
              "      <th>50200</th>\n",
              "      <td>43354556</td>\n",
              "      <td>Mod Midtown 1BR, w/ Balcony, Fitness center + ...</td>\n",
              "      <td>107434423</td>\n",
              "      <td>Blueground</td>\n",
              "      <td>Manhattan</td>\n",
              "      <td>Theater District</td>\n",
              "      <td>40.76082</td>\n",
              "      <td>-73.98370</td>\n",
              "      <td>Entire home/apt</td>\n",
              "      <td>204</td>\n",
              "      <td>30</td>\n",
              "      <td>0</td>\n",
              "      <td>NaN</td>\n",
              "      <td>NaN</td>\n",
              "      <td>294</td>\n",
              "      <td>358</td>\n",
              "    </tr>\n",
              "  </tbody>\n",
              "</table>\n",
              "<p>294 rows × 16 columns</p>\n",
              "</div>"
            ],
            "text/plain": [
              "             id  ... availability_365\n",
              "22783  20845031  ...              318\n",
              "25267  22370388  ...              218\n",
              "26111  23264421  ...              281\n",
              "26334  23538486  ...              365\n",
              "27187  24535218  ...              219\n",
              "...         ...  ...              ...\n",
              "48729  42806911  ...                0\n",
              "48824  42868618  ...                0\n",
              "48825  42868661  ...                0\n",
              "48981  42938323  ...              304\n",
              "50200  43354556  ...              358\n",
              "\n",
              "[294 rows x 16 columns]"
            ]
          },
          "metadata": {
            "tags": []
          },
          "execution_count": 9
        }
      ]
    },
    {
      "cell_type": "markdown",
      "metadata": {
        "id": "irFOnRXFZEgR",
        "colab_type": "text"
      },
      "source": [
        "As you can see there is 294 rooms that have a value in `calculated_host_listings_count` higher than 200, but they are all owned by the same host. Thats the nature of this value, since it is related to the amount of rooms owned by the host of the room, every time you see a value in this column, you are going to see at least this same amount of rows with this same value, creating a little bit of distortion at this histogram.\n",
        "\n",
        "There isn`t much you can extract from the id and host_id columns, since they are only identificantion numbers.\n",
        "\n",
        "The latitude and longitude columns show to us that is a huge concentration in some regions, so lets try to visualize that.\n",
        "\n"
      ]
    },
    {
      "cell_type": "code",
      "metadata": {
        "id": "UMeMcu8Td61f",
        "colab_type": "code",
        "outputId": "40ceaa6b-608e-413d-b8e1-917b69c2f5cd",
        "colab": {
          "base_uri": "https://localhost:8080/",
          "height": 119
        }
      },
      "source": [
        "df.neighbourhood_group.value_counts() / df.shape[0]"
      ],
      "execution_count": 10,
      "outputs": [
        {
          "output_type": "execute_result",
          "data": {
            "text/plain": [
              "Manhattan        0.445448\n",
              "Brooklyn         0.400748\n",
              "Queens           0.122577\n",
              "Bronx            0.023863\n",
              "Staten Island    0.007364\n",
              "Name: neighbourhood_group, dtype: float64"
            ]
          },
          "metadata": {
            "tags": []
          },
          "execution_count": 10
        }
      ]
    },
    {
      "cell_type": "markdown",
      "metadata": {
        "id": "SzCeBMHRjHV9",
        "colab_type": "text"
      },
      "source": [
        "this is the percentage of rooms in which district, showing to us that almost 85% of all rooms are located in Brooklying or Manhattan, explaing our latitude and longitude distribution. \n",
        "\n",
        "Numbers of reviews and Reviews per month shows what we expected, most of the apartments are not rented that often, leading to a low number of reviews, and the best ones have a huge amount of reviews, since they are more used.\n",
        "\n",
        "Minimum nights shows us some weird distributions, telling us that some rooms requires **over 1000 nights** at minimum to be hosted at them, which seems a bit strange for an Airbnb room. This rooms are what we call outliers, rows that represents values completely diferent from the others and sometimes it will mess with your final analysis. Since this is a brief analysis we will mantaing the data set as it is now.\n",
        "\n",
        "The Price column show some similarities to the minimun nights distributions, but there are things to be considered. At the end of that histogram there is a more expressive column than at the minimum nights variable, representing a bigger number os apartaments at a higher price, and since we are at New York, this is not something that surprise us. Lets take a look at the most expensives rooms."
      ]
    },
    {
      "cell_type": "code",
      "metadata": {
        "id": "yn-qophmpesJ",
        "colab_type": "code",
        "outputId": "07d33eeb-22e2-40c1-edcf-d216ba37734e",
        "colab": {
          "base_uri": "https://localhost:8080/",
          "height": 1000
        }
      },
      "source": [
        "df[df['price'] > 8000]"
      ],
      "execution_count": 11,
      "outputs": [
        {
          "output_type": "execute_result",
          "data": {
            "text/html": [
              "<div>\n",
              "<style scoped>\n",
              "    .dataframe tbody tr th:only-of-type {\n",
              "        vertical-align: middle;\n",
              "    }\n",
              "\n",
              "    .dataframe tbody tr th {\n",
              "        vertical-align: top;\n",
              "    }\n",
              "\n",
              "    .dataframe thead th {\n",
              "        text-align: right;\n",
              "    }\n",
              "</style>\n",
              "<table border=\"1\" class=\"dataframe\">\n",
              "  <thead>\n",
              "    <tr style=\"text-align: right;\">\n",
              "      <th></th>\n",
              "      <th>id</th>\n",
              "      <th>name</th>\n",
              "      <th>host_id</th>\n",
              "      <th>host_name</th>\n",
              "      <th>neighbourhood_group</th>\n",
              "      <th>neighbourhood</th>\n",
              "      <th>latitude</th>\n",
              "      <th>longitude</th>\n",
              "      <th>room_type</th>\n",
              "      <th>price</th>\n",
              "      <th>minimum_nights</th>\n",
              "      <th>number_of_reviews</th>\n",
              "      <th>last_review</th>\n",
              "      <th>reviews_per_month</th>\n",
              "      <th>calculated_host_listings_count</th>\n",
              "      <th>availability_365</th>\n",
              "    </tr>\n",
              "  </thead>\n",
              "  <tbody>\n",
              "    <tr>\n",
              "      <th>5764</th>\n",
              "      <td>4737930</td>\n",
              "      <td>Spanish Harlem Apt</td>\n",
              "      <td>1235070</td>\n",
              "      <td>Olson</td>\n",
              "      <td>Manhattan</td>\n",
              "      <td>East Harlem</td>\n",
              "      <td>40.79264</td>\n",
              "      <td>-73.93898</td>\n",
              "      <td>Entire home/apt</td>\n",
              "      <td>9999</td>\n",
              "      <td>5</td>\n",
              "      <td>1</td>\n",
              "      <td>2015-01-02</td>\n",
              "      <td>0.02</td>\n",
              "      <td>1</td>\n",
              "      <td>0</td>\n",
              "    </tr>\n",
              "    <tr>\n",
              "      <th>10901</th>\n",
              "      <td>9528920</td>\n",
              "      <td>Quiet, Clean, Lit @ LES &amp; Chinatown</td>\n",
              "      <td>3906464</td>\n",
              "      <td>Amy</td>\n",
              "      <td>Manhattan</td>\n",
              "      <td>Lower East Side</td>\n",
              "      <td>40.71355</td>\n",
              "      <td>-73.98507</td>\n",
              "      <td>Private room</td>\n",
              "      <td>9999</td>\n",
              "      <td>99</td>\n",
              "      <td>6</td>\n",
              "      <td>2016-01-01</td>\n",
              "      <td>0.11</td>\n",
              "      <td>1</td>\n",
              "      <td>83</td>\n",
              "    </tr>\n",
              "    <tr>\n",
              "      <th>15653</th>\n",
              "      <td>13894339</td>\n",
              "      <td>Luxury 1 bedroom apt. -stunning Manhattan views</td>\n",
              "      <td>5143901</td>\n",
              "      <td>Erin</td>\n",
              "      <td>Brooklyn</td>\n",
              "      <td>Greenpoint</td>\n",
              "      <td>40.73260</td>\n",
              "      <td>-73.95739</td>\n",
              "      <td>Entire home/apt</td>\n",
              "      <td>10000</td>\n",
              "      <td>5</td>\n",
              "      <td>5</td>\n",
              "      <td>2017-07-27</td>\n",
              "      <td>0.12</td>\n",
              "      <td>1</td>\n",
              "      <td>0</td>\n",
              "    </tr>\n",
              "    <tr>\n",
              "      <th>15701</th>\n",
              "      <td>13925864</td>\n",
              "      <td>Astoria 35-41</td>\n",
              "      <td>58480311</td>\n",
              "      <td>Raquel-Ast</td>\n",
              "      <td>Queens</td>\n",
              "      <td>Long Island City</td>\n",
              "      <td>40.76168</td>\n",
              "      <td>-73.92986</td>\n",
              "      <td>Entire home/apt</td>\n",
              "      <td>10000</td>\n",
              "      <td>2</td>\n",
              "      <td>28</td>\n",
              "      <td>2018-01-03</td>\n",
              "      <td>0.61</td>\n",
              "      <td>1</td>\n",
              "      <td>36</td>\n",
              "    </tr>\n",
              "    <tr>\n",
              "      <th>23320</th>\n",
              "      <td>21260337</td>\n",
              "      <td>Shared Apartment for Adventurous Traveler</td>\n",
              "      <td>8216122</td>\n",
              "      <td>Rivington</td>\n",
              "      <td>Brooklyn</td>\n",
              "      <td>Manhattan Beach</td>\n",
              "      <td>40.57967</td>\n",
              "      <td>-73.95337</td>\n",
              "      <td>Shared room</td>\n",
              "      <td>10000</td>\n",
              "      <td>2</td>\n",
              "      <td>0</td>\n",
              "      <td>NaN</td>\n",
              "      <td>NaN</td>\n",
              "      <td>1</td>\n",
              "      <td>88</td>\n",
              "    </tr>\n",
              "    <tr>\n",
              "      <th>...</th>\n",
              "      <td>...</td>\n",
              "      <td>...</td>\n",
              "      <td>...</td>\n",
              "      <td>...</td>\n",
              "      <td>...</td>\n",
              "      <td>...</td>\n",
              "      <td>...</td>\n",
              "      <td>...</td>\n",
              "      <td>...</td>\n",
              "      <td>...</td>\n",
              "      <td>...</td>\n",
              "      <td>...</td>\n",
              "      <td>...</td>\n",
              "      <td>...</td>\n",
              "      <td>...</td>\n",
              "      <td>...</td>\n",
              "    </tr>\n",
              "    <tr>\n",
              "      <th>48467</th>\n",
              "      <td>42687566</td>\n",
              "      <td>Luxury Designer Suite in Times Square w/ Break...</td>\n",
              "      <td>244370442</td>\n",
              "      <td>Paramount Hotel</td>\n",
              "      <td>Manhattan</td>\n",
              "      <td>Theater District</td>\n",
              "      <td>40.76011</td>\n",
              "      <td>-73.98667</td>\n",
              "      <td>Private room</td>\n",
              "      <td>10000</td>\n",
              "      <td>1</td>\n",
              "      <td>0</td>\n",
              "      <td>NaN</td>\n",
              "      <td>NaN</td>\n",
              "      <td>9</td>\n",
              "      <td>296</td>\n",
              "    </tr>\n",
              "    <tr>\n",
              "      <th>49937</th>\n",
              "      <td>43265776</td>\n",
              "      <td>Citadines Connect 5th Ave, Premier King</td>\n",
              "      <td>340938089</td>\n",
              "      <td>Natalie</td>\n",
              "      <td>Manhattan</td>\n",
              "      <td>Midtown</td>\n",
              "      <td>40.75508</td>\n",
              "      <td>-73.98097</td>\n",
              "      <td>Entire home/apt</td>\n",
              "      <td>10000</td>\n",
              "      <td>1</td>\n",
              "      <td>0</td>\n",
              "      <td>NaN</td>\n",
              "      <td>NaN</td>\n",
              "      <td>4</td>\n",
              "      <td>365</td>\n",
              "    </tr>\n",
              "    <tr>\n",
              "      <th>49938</th>\n",
              "      <td>43265806</td>\n",
              "      <td>Citadines Connect 5th Ave, Premier Double</td>\n",
              "      <td>340938089</td>\n",
              "      <td>Natalie</td>\n",
              "      <td>Manhattan</td>\n",
              "      <td>Midtown</td>\n",
              "      <td>40.75640</td>\n",
              "      <td>-73.97916</td>\n",
              "      <td>Entire home/apt</td>\n",
              "      <td>10000</td>\n",
              "      <td>1</td>\n",
              "      <td>0</td>\n",
              "      <td>NaN</td>\n",
              "      <td>NaN</td>\n",
              "      <td>4</td>\n",
              "      <td>365</td>\n",
              "    </tr>\n",
              "    <tr>\n",
              "      <th>49939</th>\n",
              "      <td>43265846</td>\n",
              "      <td>Citadines Connect 5th Ave, Presidential Suite</td>\n",
              "      <td>340938089</td>\n",
              "      <td>Natalie</td>\n",
              "      <td>Manhattan</td>\n",
              "      <td>Midtown</td>\n",
              "      <td>40.75557</td>\n",
              "      <td>-73.98050</td>\n",
              "      <td>Entire home/apt</td>\n",
              "      <td>10000</td>\n",
              "      <td>1</td>\n",
              "      <td>0</td>\n",
              "      <td>NaN</td>\n",
              "      <td>NaN</td>\n",
              "      <td>4</td>\n",
              "      <td>365</td>\n",
              "    </tr>\n",
              "    <tr>\n",
              "      <th>49940</th>\n",
              "      <td>43265923</td>\n",
              "      <td>Citadines Connect 5th Ave, Standard Room</td>\n",
              "      <td>340938089</td>\n",
              "      <td>Natalie</td>\n",
              "      <td>Manhattan</td>\n",
              "      <td>Midtown</td>\n",
              "      <td>40.75716</td>\n",
              "      <td>-73.97988</td>\n",
              "      <td>Entire home/apt</td>\n",
              "      <td>10000</td>\n",
              "      <td>1</td>\n",
              "      <td>0</td>\n",
              "      <td>NaN</td>\n",
              "      <td>NaN</td>\n",
              "      <td>4</td>\n",
              "      <td>365</td>\n",
              "    </tr>\n",
              "  </tbody>\n",
              "</table>\n",
              "<p>68 rows × 16 columns</p>\n",
              "</div>"
            ],
            "text/plain": [
              "             id  ... availability_365\n",
              "5764    4737930  ...                0\n",
              "10901   9528920  ...               83\n",
              "15653  13894339  ...                0\n",
              "15701  13925864  ...               36\n",
              "23320  21260337  ...               88\n",
              "...         ...  ...              ...\n",
              "48467  42687566  ...              296\n",
              "49937  43265776  ...              365\n",
              "49938  43265806  ...              365\n",
              "49939  43265846  ...              365\n",
              "49940  43265923  ...              365\n",
              "\n",
              "[68 rows x 16 columns]"
            ]
          },
          "metadata": {
            "tags": []
          },
          "execution_count": 11
        }
      ]
    },
    {
      "cell_type": "markdown",
      "metadata": {
        "id": "pJaXn7Mips8Y",
        "colab_type": "text"
      },
      "source": [
        "As you can see there are 68 rooms with prices above 8000 dolars, representing the luxurious rooms at the city."
      ]
    },
    {
      "cell_type": "markdown",
      "metadata": {
        "id": "7x4aw1j5wNmn",
        "colab_type": "text"
      },
      "source": [
        "### **Q4. How much does it cost to spend a night at New York?**\n",
        "\n",
        "Since New York is an expensive city to live, it would be useful to know some data about the price of a room at the city, so let`s take a look. "
      ]
    },
    {
      "cell_type": "code",
      "metadata": {
        "id": "ff-8gUahLk-C",
        "colab_type": "code",
        "outputId": "4f0b72be-08f0-4032-a27d-68cdacb4f505",
        "colab": {
          "base_uri": "https://localhost:8080/",
          "height": 170
        }
      },
      "source": [
        "# see the value at price column\n",
        "df.price.describe()\n"
      ],
      "execution_count": 12,
      "outputs": [
        {
          "output_type": "execute_result",
          "data": {
            "text/plain": [
              "count    50246.000000\n",
              "mean       163.130777\n",
              "std        421.687803\n",
              "min          0.000000\n",
              "25%         68.000000\n",
              "50%        104.000000\n",
              "75%        175.000000\n",
              "max      10000.000000\n",
              "Name: price, dtype: float64"
            ]
          },
          "metadata": {
            "tags": []
          },
          "execution_count": 12
        }
      ]
    },
    {
      "cell_type": "markdown",
      "metadata": {
        "id": "RGQ17IsUrmHQ",
        "colab_type": "text"
      },
      "source": [
        "The values above shows us that the avarage price per night is 163 US Dolars, which can be expensive, especially if you live in Brazil like me, but since the luxurious rooms lift the mean by a good margin, you probably would be able to rent good rooms for 100 US Dolars a night or even less."
      ]
    },
    {
      "cell_type": "markdown",
      "metadata": {
        "id": "IXn2oIo5qx-w",
        "colab_type": "text"
      },
      "source": [
        "### **Q5. What is the correlation between the existing variabels?**\n",
        "\n",
        "When we talk abou correlation, we are trying to understand how much the value of one column can impact the others columns.\n",
        "\n",
        "So to find that impact, we should make a correlation matrix. In this matrix if the value is positive it means that for some unknown reason, when the column listed on the right goes up, the value listed on top goes up, and if the value goes down, the other value goes down.\n",
        "If the value found is negative, the values grow at diferent directions, once one goes up, the other goes down and vice versa.\n",
        "\n",
        "We are only looking for signs of strong correlation (values above 0.5), since small values normaly means that those values have no correlation whatsoever. \n"
      ]
    },
    {
      "cell_type": "code",
      "metadata": {
        "id": "x2ayzBajqxyd",
        "colab_type": "code",
        "outputId": "fce3b701-7d61-437c-83b1-0fe0891c078f",
        "colab": {
          "base_uri": "https://localhost:8080/",
          "height": 235
        }
      },
      "source": [
        "# create a correlation matrix\n",
        "corr = df[['price', 'minimum_nights', 'number_of_reviews', 'reviews_per_month',\n",
        "    'calculated_host_listings_count', 'availability_365']].corr()\n",
        "\n",
        "\n",
        "# show correlation matrix\n",
        "display(corr)\n"
      ],
      "execution_count": 13,
      "outputs": [
        {
          "output_type": "display_data",
          "data": {
            "text/html": [
              "<div>\n",
              "<style scoped>\n",
              "    .dataframe tbody tr th:only-of-type {\n",
              "        vertical-align: middle;\n",
              "    }\n",
              "\n",
              "    .dataframe tbody tr th {\n",
              "        vertical-align: top;\n",
              "    }\n",
              "\n",
              "    .dataframe thead th {\n",
              "        text-align: right;\n",
              "    }\n",
              "</style>\n",
              "<table border=\"1\" class=\"dataframe\">\n",
              "  <thead>\n",
              "    <tr style=\"text-align: right;\">\n",
              "      <th></th>\n",
              "      <th>price</th>\n",
              "      <th>minimum_nights</th>\n",
              "      <th>number_of_reviews</th>\n",
              "      <th>reviews_per_month</th>\n",
              "      <th>calculated_host_listings_count</th>\n",
              "      <th>availability_365</th>\n",
              "    </tr>\n",
              "  </thead>\n",
              "  <tbody>\n",
              "    <tr>\n",
              "      <th>price</th>\n",
              "      <td>1.000000</td>\n",
              "      <td>0.017178</td>\n",
              "      <td>-0.036491</td>\n",
              "      <td>-0.009299</td>\n",
              "      <td>0.010577</td>\n",
              "      <td>0.064419</td>\n",
              "    </tr>\n",
              "    <tr>\n",
              "      <th>minimum_nights</th>\n",
              "      <td>0.017178</td>\n",
              "      <td>1.000000</td>\n",
              "      <td>-0.081439</td>\n",
              "      <td>-0.104093</td>\n",
              "      <td>0.166418</td>\n",
              "      <td>0.147477</td>\n",
              "    </tr>\n",
              "    <tr>\n",
              "      <th>number_of_reviews</th>\n",
              "      <td>-0.036491</td>\n",
              "      <td>-0.081439</td>\n",
              "      <td>1.000000</td>\n",
              "      <td>0.699320</td>\n",
              "      <td>-0.080117</td>\n",
              "      <td>0.186228</td>\n",
              "    </tr>\n",
              "    <tr>\n",
              "      <th>reviews_per_month</th>\n",
              "      <td>-0.009299</td>\n",
              "      <td>-0.104093</td>\n",
              "      <td>0.699320</td>\n",
              "      <td>1.000000</td>\n",
              "      <td>-0.064513</td>\n",
              "      <td>0.209332</td>\n",
              "    </tr>\n",
              "    <tr>\n",
              "      <th>calculated_host_listings_count</th>\n",
              "      <td>0.010577</td>\n",
              "      <td>0.166418</td>\n",
              "      <td>-0.080117</td>\n",
              "      <td>-0.064513</td>\n",
              "      <td>1.000000</td>\n",
              "      <td>0.167157</td>\n",
              "    </tr>\n",
              "    <tr>\n",
              "      <th>availability_365</th>\n",
              "      <td>0.064419</td>\n",
              "      <td>0.147477</td>\n",
              "      <td>0.186228</td>\n",
              "      <td>0.209332</td>\n",
              "      <td>0.167157</td>\n",
              "      <td>1.000000</td>\n",
              "    </tr>\n",
              "  </tbody>\n",
              "</table>\n",
              "</div>"
            ],
            "text/plain": [
              "                                   price  ...  availability_365\n",
              "price                           1.000000  ...          0.064419\n",
              "minimum_nights                  0.017178  ...          0.147477\n",
              "number_of_reviews              -0.036491  ...          0.186228\n",
              "reviews_per_month              -0.009299  ...          0.209332\n",
              "calculated_host_listings_count  0.010577  ...          0.167157\n",
              "availability_365                0.064419  ...          1.000000\n",
              "\n",
              "[6 rows x 6 columns]"
            ]
          },
          "metadata": {
            "tags": []
          }
        }
      ]
    },
    {
      "cell_type": "code",
      "metadata": {
        "id": "91UujDr6ueqE",
        "colab_type": "code",
        "outputId": "84b2de57-21cb-4721-dfa9-7a48094cc604",
        "colab": {
          "base_uri": "https://localhost:8080/",
          "height": 428
        }
      },
      "source": [
        "# plot a heatmap based upon the correlations\n",
        "sns.heatmap(corr,cmap=\"RdBu\", fmt='.2f', square=True, linecolor='white',annot=True)"
      ],
      "execution_count": 14,
      "outputs": [
        {
          "output_type": "execute_result",
          "data": {
            "text/plain": [
              "<matplotlib.axes._subplots.AxesSubplot at 0x7f6ef3925160>"
            ]
          },
          "metadata": {
            "tags": []
          },
          "execution_count": 14
        },
        {
          "output_type": "display_data",
          "data": {
            "image/png": "[encoded data removed]",
            "text/plain": [
              "<Figure size 432x288 with 2 Axes>"
            ]
          },
          "metadata": {
            "tags": [],
            "needs_background": "light"
          }
        }
      ]
    },
    {
      "cell_type": "markdown",
      "metadata": {
        "id": "_8cqJCRJ1b78",
        "colab_type": "text"
      },
      "source": [
        "This matrix show us that the only values that are realy correlated are `number_of_reviews` and `reviews_per_month` represented by a 0.7 correlation factor, which seems kind o logical. \n",
        "\n"
      ]
    },
    {
      "cell_type": "markdown",
      "metadata": {
        "id": "7b6RMWpuHKN-",
        "colab_type": "text"
      },
      "source": [
        "### **Q6. What is the most available room type?**\n",
        "\n",
        "Now let`s see how many of each room type there is in New York."
      ]
    },
    {
      "cell_type": "code",
      "metadata": {
        "id": "ueLPNWvPHgfB",
        "colab_type": "code",
        "outputId": "8423f87b-4ced-4eec-fc16-a5aa5dfc9af9",
        "colab": {
          "base_uri": "https://localhost:8080/",
          "height": 102
        }
      },
      "source": [
        "# show the amount of rooms by type\n",
        "df.room_type.value_counts()"
      ],
      "execution_count": 15,
      "outputs": [
        {
          "output_type": "execute_result",
          "data": {
            "text/plain": [
              "Entire home/apt    26073\n",
              "Private room       22599\n",
              "Shared room         1140\n",
              "Hotel room           434\n",
              "Name: room_type, dtype: int64"
            ]
          },
          "metadata": {
            "tags": []
          },
          "execution_count": 15
        }
      ]
    },
    {
      "cell_type": "code",
      "metadata": {
        "id": "EvwoO-XAHhIm",
        "colab_type": "code",
        "outputId": "386ad189-0448-4884-d4bb-ba89e7d29782",
        "colab": {
          "base_uri": "https://localhost:8080/",
          "height": 102
        }
      },
      "source": [
        "# show the percentage of rooms by type\n",
        "df.room_type.value_counts()/ df.shape[0]"
      ],
      "execution_count": 16,
      "outputs": [
        {
          "output_type": "execute_result",
          "data": {
            "text/plain": [
              "Entire home/apt    0.518907\n",
              "Private room       0.449767\n",
              "Shared room        0.022688\n",
              "Hotel room         0.008638\n",
              "Name: room_type, dtype: float64"
            ]
          },
          "metadata": {
            "tags": []
          },
          "execution_count": 16
        }
      ]
    },
    {
      "cell_type": "markdown",
      "metadata": {
        "id": "B-S2ibY14Xfc",
        "colab_type": "text"
      },
      "source": [
        "So 96% of all the rooms are Entire home/apt or Private room. Having the majority of the rooms in these two categories seems to be a trend at the Airbnb."
      ]
    },
    {
      "cell_type": "markdown",
      "metadata": {
        "id": "MFa5NbnLJMcd",
        "colab_type": "text"
      },
      "source": [
        "### **Q7. At what place is more expensive to rent a room ?**\n",
        "\n",
        "Now that we alredy have some information about the rooms and the prices, it`s time to see where is more expensive to stay.\n"
      ]
    },
    {
      "cell_type": "code",
      "metadata": {
        "id": "MD_xa143JZpi",
        "colab_type": "code",
        "outputId": "4965dd92-aea3-4f47-b261-90300a1f4120",
        "colab": {
          "base_uri": "https://localhost:8080/",
          "height": 136
        }
      },
      "source": [
        "# see prices by district.\n",
        "df.groupby(['neighbourhood_group']).price.mean().sort_values(ascending=False)\n"
      ],
      "execution_count": 17,
      "outputs": [
        {
          "output_type": "execute_result",
          "data": {
            "text/plain": [
              "neighbourhood_group\n",
              "Manhattan        219.378652\n",
              "Brooklyn         125.147547\n",
              "Staten Island    117.321622\n",
              "Queens            99.725118\n",
              "Bronx             90.866555\n",
              "Name: price, dtype: float64"
            ]
          },
          "metadata": {
            "tags": []
          },
          "execution_count": 17
        }
      ]
    },
    {
      "cell_type": "markdown",
      "metadata": {
        "id": "LprkgORN6UJD",
        "colab_type": "text"
      },
      "source": [
        "As expected, Manhattan is the most expensive area to stay, with the huge ammount of 219 US Dolars as its mean value. Now it`s time do dive into the neighbourhoods"
      ]
    },
    {
      "cell_type": "code",
      "metadata": {
        "id": "UxVJqJ_3W59I",
        "colab_type": "code",
        "outputId": "276dffa0-36f1-4788-93a3-8952aff3415d",
        "colab": {
          "base_uri": "https://localhost:8080/",
          "height": 221
        }
      },
      "source": [
        "# see prices by neighbourhoog.\n",
        "df.groupby(['neighbourhood']).price.mean().sort_values(ascending=False)[0:10]\n"
      ],
      "execution_count": 18,
      "outputs": [
        {
          "output_type": "execute_result",
          "data": {
            "text/plain": [
              "neighbourhood\n",
              "Woodrow             2350.000000\n",
              "Country Club        1000.000000\n",
              "Manhattan Beach      861.538462\n",
              "Fort Wadsworth       700.000000\n",
              "Prince's Bay         506.666667\n",
              "Midtown              503.619188\n",
              "Theater District     487.131805\n",
              "Tribeca              418.358974\n",
              "Sea Gate             369.076923\n",
              "Riverdale            337.000000\n",
              "Name: price, dtype: float64"
            ]
          },
          "metadata": {
            "tags": []
          },
          "execution_count": 18
        }
      ]
    },
    {
      "cell_type": "markdown",
      "metadata": {
        "id": "gmjvtECc7gqy",
        "colab_type": "text"
      },
      "source": [
        "As we can see there is some weird things going on. All the first 5 on the list show an enourmous amount compared to the region they are located, even beating Midtown, even do Midtown should be the ultimate premium location in New York. Let`s check the data about those 5 regions. "
      ]
    },
    {
      "cell_type": "code",
      "metadata": {
        "id": "UTWzdHLk7oru",
        "colab_type": "code",
        "outputId": "c7276a9d-efa0-48e1-fa15-5945a4b70ca4",
        "colab": {
          "base_uri": "https://localhost:8080/",
          "height": 199
        }
      },
      "source": [
        "df[df['neighbourhood'] == \"Woodrow\"]"
      ],
      "execution_count": 19,
      "outputs": [
        {
          "output_type": "execute_result",
          "data": {
            "text/html": [
              "<div>\n",
              "<style scoped>\n",
              "    .dataframe tbody tr th:only-of-type {\n",
              "        vertical-align: middle;\n",
              "    }\n",
              "\n",
              "    .dataframe tbody tr th {\n",
              "        vertical-align: top;\n",
              "    }\n",
              "\n",
              "    .dataframe thead th {\n",
              "        text-align: right;\n",
              "    }\n",
              "</style>\n",
              "<table border=\"1\" class=\"dataframe\">\n",
              "  <thead>\n",
              "    <tr style=\"text-align: right;\">\n",
              "      <th></th>\n",
              "      <th>id</th>\n",
              "      <th>name</th>\n",
              "      <th>host_id</th>\n",
              "      <th>host_name</th>\n",
              "      <th>neighbourhood_group</th>\n",
              "      <th>neighbourhood</th>\n",
              "      <th>latitude</th>\n",
              "      <th>longitude</th>\n",
              "      <th>room_type</th>\n",
              "      <th>price</th>\n",
              "      <th>minimum_nights</th>\n",
              "      <th>number_of_reviews</th>\n",
              "      <th>last_review</th>\n",
              "      <th>reviews_per_month</th>\n",
              "      <th>calculated_host_listings_count</th>\n",
              "      <th>availability_365</th>\n",
              "    </tr>\n",
              "  </thead>\n",
              "  <tbody>\n",
              "    <tr>\n",
              "      <th>2650</th>\n",
              "      <td>1798271</td>\n",
              "      <td>Spacious center hall colonial</td>\n",
              "      <td>9430973</td>\n",
              "      <td>Donna</td>\n",
              "      <td>Staten Island</td>\n",
              "      <td>Woodrow</td>\n",
              "      <td>40.53884</td>\n",
              "      <td>-74.19826</td>\n",
              "      <td>Entire home/apt</td>\n",
              "      <td>700</td>\n",
              "      <td>7</td>\n",
              "      <td>0</td>\n",
              "      <td>NaN</td>\n",
              "      <td>NaN</td>\n",
              "      <td>1</td>\n",
              "      <td>0</td>\n",
              "    </tr>\n",
              "    <tr>\n",
              "      <th>49032</th>\n",
              "      <td>42949093</td>\n",
              "      <td>S.I. home</td>\n",
              "      <td>341475072</td>\n",
              "      <td>Kareem</td>\n",
              "      <td>Staten Island</td>\n",
              "      <td>Woodrow</td>\n",
              "      <td>40.53865</td>\n",
              "      <td>-74.19631</td>\n",
              "      <td>Entire home/apt</td>\n",
              "      <td>4000</td>\n",
              "      <td>1</td>\n",
              "      <td>0</td>\n",
              "      <td>NaN</td>\n",
              "      <td>NaN</td>\n",
              "      <td>1</td>\n",
              "      <td>220</td>\n",
              "    </tr>\n",
              "  </tbody>\n",
              "</table>\n",
              "</div>"
            ],
            "text/plain": [
              "             id  ... availability_365\n",
              "2650    1798271  ...                0\n",
              "49032  42949093  ...              220\n",
              "\n",
              "[2 rows x 16 columns]"
            ]
          },
          "metadata": {
            "tags": []
          },
          "execution_count": 19
        }
      ]
    },
    {
      "cell_type": "markdown",
      "metadata": {
        "id": "LvUNEteD86mK",
        "colab_type": "text"
      },
      "source": [
        "Woodrow has only 2 rooms, and none of them have reviews, meaning they probably were never rented. Also there is a ** 4000 US Dolars ** room, thats unusual for a Staten Island Location."
      ]
    },
    {
      "cell_type": "code",
      "metadata": {
        "id": "qaadzDTL9PSO",
        "colab_type": "code",
        "outputId": "d48cfc46-621d-425e-8975-28aebe065c01",
        "colab": {
          "base_uri": "https://localhost:8080/",
          "height": 202
        }
      },
      "source": [
        "df[df['neighbourhood'] == \"Country Club\"]"
      ],
      "execution_count": 20,
      "outputs": [
        {
          "output_type": "execute_result",
          "data": {
            "text/html": [
              "<div>\n",
              "<style scoped>\n",
              "    .dataframe tbody tr th:only-of-type {\n",
              "        vertical-align: middle;\n",
              "    }\n",
              "\n",
              "    .dataframe tbody tr th {\n",
              "        vertical-align: top;\n",
              "    }\n",
              "\n",
              "    .dataframe thead th {\n",
              "        text-align: right;\n",
              "    }\n",
              "</style>\n",
              "<table border=\"1\" class=\"dataframe\">\n",
              "  <thead>\n",
              "    <tr style=\"text-align: right;\">\n",
              "      <th></th>\n",
              "      <th>id</th>\n",
              "      <th>name</th>\n",
              "      <th>host_id</th>\n",
              "      <th>host_name</th>\n",
              "      <th>neighbourhood_group</th>\n",
              "      <th>neighbourhood</th>\n",
              "      <th>latitude</th>\n",
              "      <th>longitude</th>\n",
              "      <th>room_type</th>\n",
              "      <th>price</th>\n",
              "      <th>minimum_nights</th>\n",
              "      <th>number_of_reviews</th>\n",
              "      <th>last_review</th>\n",
              "      <th>reviews_per_month</th>\n",
              "      <th>calculated_host_listings_count</th>\n",
              "      <th>availability_365</th>\n",
              "    </tr>\n",
              "  </thead>\n",
              "  <tbody>\n",
              "    <tr>\n",
              "      <th>39422</th>\n",
              "      <td>36867595</td>\n",
              "      <td>Boat tours to the city and back</td>\n",
              "      <td>66362469</td>\n",
              "      <td>Eddie</td>\n",
              "      <td>Bronx</td>\n",
              "      <td>Country Club</td>\n",
              "      <td>40.84426</td>\n",
              "      <td>-73.81532</td>\n",
              "      <td>Shared room</td>\n",
              "      <td>1000</td>\n",
              "      <td>1</td>\n",
              "      <td>0</td>\n",
              "      <td>NaN</td>\n",
              "      <td>NaN</td>\n",
              "      <td>1</td>\n",
              "      <td>179</td>\n",
              "    </tr>\n",
              "  </tbody>\n",
              "</table>\n",
              "</div>"
            ],
            "text/plain": [
              "             id  ... availability_365\n",
              "39422  36867595  ...              179\n",
              "\n",
              "[1 rows x 16 columns]"
            ]
          },
          "metadata": {
            "tags": []
          },
          "execution_count": 20
        }
      ]
    },
    {
      "cell_type": "code",
      "metadata": {
        "id": "lhMvrwbo-h9O",
        "colab_type": "code",
        "outputId": "46389d3b-a5b0-4346-f4d4-45c3c080f5aa",
        "colab": {
          "base_uri": "https://localhost:8080/",
          "height": 185
        }
      },
      "source": [
        "df[df['neighbourhood'] == \"Fort Wadsworth\"]"
      ],
      "execution_count": 21,
      "outputs": [
        {
          "output_type": "execute_result",
          "data": {
            "text/html": [
              "<div>\n",
              "<style scoped>\n",
              "    .dataframe tbody tr th:only-of-type {\n",
              "        vertical-align: middle;\n",
              "    }\n",
              "\n",
              "    .dataframe tbody tr th {\n",
              "        vertical-align: top;\n",
              "    }\n",
              "\n",
              "    .dataframe thead th {\n",
              "        text-align: right;\n",
              "    }\n",
              "</style>\n",
              "<table border=\"1\" class=\"dataframe\">\n",
              "  <thead>\n",
              "    <tr style=\"text-align: right;\">\n",
              "      <th></th>\n",
              "      <th>id</th>\n",
              "      <th>name</th>\n",
              "      <th>host_id</th>\n",
              "      <th>host_name</th>\n",
              "      <th>neighbourhood_group</th>\n",
              "      <th>neighbourhood</th>\n",
              "      <th>latitude</th>\n",
              "      <th>longitude</th>\n",
              "      <th>room_type</th>\n",
              "      <th>price</th>\n",
              "      <th>minimum_nights</th>\n",
              "      <th>number_of_reviews</th>\n",
              "      <th>last_review</th>\n",
              "      <th>reviews_per_month</th>\n",
              "      <th>calculated_host_listings_count</th>\n",
              "      <th>availability_365</th>\n",
              "    </tr>\n",
              "  </thead>\n",
              "  <tbody>\n",
              "    <tr>\n",
              "      <th>22158</th>\n",
              "      <td>20305160</td>\n",
              "      <td>Beach House Retreat. 15 minutes from Manhattan.</td>\n",
              "      <td>1715301</td>\n",
              "      <td>Mark</td>\n",
              "      <td>Staten Island</td>\n",
              "      <td>Fort Wadsworth</td>\n",
              "      <td>40.59546</td>\n",
              "      <td>-74.06092</td>\n",
              "      <td>Entire home/apt</td>\n",
              "      <td>700</td>\n",
              "      <td>2</td>\n",
              "      <td>0</td>\n",
              "      <td>NaN</td>\n",
              "      <td>NaN</td>\n",
              "      <td>5</td>\n",
              "      <td>360</td>\n",
              "    </tr>\n",
              "  </tbody>\n",
              "</table>\n",
              "</div>"
            ],
            "text/plain": [
              "             id  ... availability_365\n",
              "22158  20305160  ...              360\n",
              "\n",
              "[1 rows x 16 columns]"
            ]
          },
          "metadata": {
            "tags": []
          },
          "execution_count": 21
        }
      ]
    },
    {
      "cell_type": "markdown",
      "metadata": {
        "id": "JZx6B2o89VE4",
        "colab_type": "text"
      },
      "source": [
        "Country club and Fort Wadsworth has only one apartament each, with a similar situation to the Woodrow rooms."
      ]
    },
    {
      "cell_type": "code",
      "metadata": {
        "id": "xSMrRSo89d2P",
        "colab_type": "code",
        "outputId": "95ffb184-9b78-4dbc-e520-1e0d373ef2cc",
        "colab": {
          "base_uri": "https://localhost:8080/",
          "height": 1000
        }
      },
      "source": [
        "df[df['neighbourhood'] == \"Manhattan Beach\"]"
      ],
      "execution_count": 22,
      "outputs": [
        {
          "output_type": "execute_result",
          "data": {
            "text/html": [
              "<div>\n",
              "<style scoped>\n",
              "    .dataframe tbody tr th:only-of-type {\n",
              "        vertical-align: middle;\n",
              "    }\n",
              "\n",
              "    .dataframe tbody tr th {\n",
              "        vertical-align: top;\n",
              "    }\n",
              "\n",
              "    .dataframe thead th {\n",
              "        text-align: right;\n",
              "    }\n",
              "</style>\n",
              "<table border=\"1\" class=\"dataframe\">\n",
              "  <thead>\n",
              "    <tr style=\"text-align: right;\">\n",
              "      <th></th>\n",
              "      <th>id</th>\n",
              "      <th>name</th>\n",
              "      <th>host_id</th>\n",
              "      <th>host_name</th>\n",
              "      <th>neighbourhood_group</th>\n",
              "      <th>neighbourhood</th>\n",
              "      <th>latitude</th>\n",
              "      <th>longitude</th>\n",
              "      <th>room_type</th>\n",
              "      <th>price</th>\n",
              "      <th>minimum_nights</th>\n",
              "      <th>number_of_reviews</th>\n",
              "      <th>last_review</th>\n",
              "      <th>reviews_per_month</th>\n",
              "      <th>calculated_host_listings_count</th>\n",
              "      <th>availability_365</th>\n",
              "    </tr>\n",
              "  </thead>\n",
              "  <tbody>\n",
              "    <tr>\n",
              "      <th>7092</th>\n",
              "      <td>6179073</td>\n",
              "      <td>Mini Studio in NY city safest area</td>\n",
              "      <td>32052000</td>\n",
              "      <td>Gennady + Laura</td>\n",
              "      <td>Brooklyn</td>\n",
              "      <td>Manhattan Beach</td>\n",
              "      <td>40.57770</td>\n",
              "      <td>-73.93988</td>\n",
              "      <td>Private room</td>\n",
              "      <td>45</td>\n",
              "      <td>3</td>\n",
              "      <td>136</td>\n",
              "      <td>2020-03-19</td>\n",
              "      <td>2.24</td>\n",
              "      <td>2</td>\n",
              "      <td>304</td>\n",
              "    </tr>\n",
              "    <tr>\n",
              "      <th>7468</th>\n",
              "      <td>6492185</td>\n",
              "      <td>A beautiful and friendly beach area</td>\n",
              "      <td>33929905</td>\n",
              "      <td>Oleg</td>\n",
              "      <td>Brooklyn</td>\n",
              "      <td>Manhattan Beach</td>\n",
              "      <td>40.57817</td>\n",
              "      <td>-73.95277</td>\n",
              "      <td>Entire home/apt</td>\n",
              "      <td>140</td>\n",
              "      <td>7</td>\n",
              "      <td>68</td>\n",
              "      <td>2020-02-23</td>\n",
              "      <td>1.18</td>\n",
              "      <td>1</td>\n",
              "      <td>174</td>\n",
              "    </tr>\n",
              "    <tr>\n",
              "      <th>14405</th>\n",
              "      <td>13107627</td>\n",
              "      <td>Private Bedroom w/ Private Bath/Mini Fridge</td>\n",
              "      <td>72542338</td>\n",
              "      <td>Mychelle</td>\n",
              "      <td>Brooklyn</td>\n",
              "      <td>Manhattan Beach</td>\n",
              "      <td>40.58078</td>\n",
              "      <td>-73.95356</td>\n",
              "      <td>Private room</td>\n",
              "      <td>125</td>\n",
              "      <td>2</td>\n",
              "      <td>27</td>\n",
              "      <td>2020-02-03</td>\n",
              "      <td>0.56</td>\n",
              "      <td>1</td>\n",
              "      <td>220</td>\n",
              "    </tr>\n",
              "    <tr>\n",
              "      <th>14515</th>\n",
              "      <td>13170159</td>\n",
              "      <td>Brooklyn Brand New Studio</td>\n",
              "      <td>62535444</td>\n",
              "      <td>Alex</td>\n",
              "      <td>Brooklyn</td>\n",
              "      <td>Manhattan Beach</td>\n",
              "      <td>40.57867</td>\n",
              "      <td>-73.95227</td>\n",
              "      <td>Entire home/apt</td>\n",
              "      <td>99</td>\n",
              "      <td>1</td>\n",
              "      <td>53</td>\n",
              "      <td>2020-02-22</td>\n",
              "      <td>1.12</td>\n",
              "      <td>2</td>\n",
              "      <td>365</td>\n",
              "    </tr>\n",
              "    <tr>\n",
              "      <th>14625</th>\n",
              "      <td>13243615</td>\n",
              "      <td>Big Studio Apartment near Ocean Beach</td>\n",
              "      <td>17770598</td>\n",
              "      <td>Maya</td>\n",
              "      <td>Brooklyn</td>\n",
              "      <td>Manhattan Beach</td>\n",
              "      <td>40.57750</td>\n",
              "      <td>-73.94003</td>\n",
              "      <td>Entire home/apt</td>\n",
              "      <td>79</td>\n",
              "      <td>1</td>\n",
              "      <td>0</td>\n",
              "      <td>NaN</td>\n",
              "      <td>NaN</td>\n",
              "      <td>1</td>\n",
              "      <td>0</td>\n",
              "    </tr>\n",
              "    <tr>\n",
              "      <th>16531</th>\n",
              "      <td>14789008</td>\n",
              "      <td>Spacious 1BR amazing view, Beach 5 min, airpor...</td>\n",
              "      <td>26759986</td>\n",
              "      <td>Aziz</td>\n",
              "      <td>Brooklyn</td>\n",
              "      <td>Manhattan Beach</td>\n",
              "      <td>40.58249</td>\n",
              "      <td>-73.95347</td>\n",
              "      <td>Entire home/apt</td>\n",
              "      <td>150</td>\n",
              "      <td>30</td>\n",
              "      <td>2</td>\n",
              "      <td>2016-09-20</td>\n",
              "      <td>0.05</td>\n",
              "      <td>1</td>\n",
              "      <td>0</td>\n",
              "    </tr>\n",
              "    <tr>\n",
              "      <th>16851</th>\n",
              "      <td>15158791</td>\n",
              "      <td>SPECIAL: Luxury Apt, Close to Transp, Beach &amp; ...</td>\n",
              "      <td>84558839</td>\n",
              "      <td>Mitch</td>\n",
              "      <td>Brooklyn</td>\n",
              "      <td>Manhattan Beach</td>\n",
              "      <td>40.58085</td>\n",
              "      <td>-73.93934</td>\n",
              "      <td>Entire home/apt</td>\n",
              "      <td>120</td>\n",
              "      <td>2</td>\n",
              "      <td>97</td>\n",
              "      <td>2020-03-08</td>\n",
              "      <td>2.20</td>\n",
              "      <td>1</td>\n",
              "      <td>347</td>\n",
              "    </tr>\n",
              "    <tr>\n",
              "      <th>17154</th>\n",
              "      <td>15507375</td>\n",
              "      <td>Private Studio, Oceanside beautiful and safe area</td>\n",
              "      <td>32052000</td>\n",
              "      <td>Gennady + Laura</td>\n",
              "      <td>Brooklyn</td>\n",
              "      <td>Manhattan Beach</td>\n",
              "      <td>40.57821</td>\n",
              "      <td>-73.94122</td>\n",
              "      <td>Entire home/apt</td>\n",
              "      <td>55</td>\n",
              "      <td>4</td>\n",
              "      <td>119</td>\n",
              "      <td>2020-03-22</td>\n",
              "      <td>2.81</td>\n",
              "      <td>2</td>\n",
              "      <td>276</td>\n",
              "    </tr>\n",
              "    <tr>\n",
              "      <th>23320</th>\n",
              "      <td>21260337</td>\n",
              "      <td>Shared Apartment for Adventurous Traveler</td>\n",
              "      <td>8216122</td>\n",
              "      <td>Rivington</td>\n",
              "      <td>Brooklyn</td>\n",
              "      <td>Manhattan Beach</td>\n",
              "      <td>40.57967</td>\n",
              "      <td>-73.95337</td>\n",
              "      <td>Shared room</td>\n",
              "      <td>10000</td>\n",
              "      <td>2</td>\n",
              "      <td>0</td>\n",
              "      <td>NaN</td>\n",
              "      <td>NaN</td>\n",
              "      <td>1</td>\n",
              "      <td>88</td>\n",
              "    </tr>\n",
              "    <tr>\n",
              "      <th>34665</th>\n",
              "      <td>32401290</td>\n",
              "      <td>Cozy private bedroom with amazing view.</td>\n",
              "      <td>125408735</td>\n",
              "      <td>Ferhat</td>\n",
              "      <td>Brooklyn</td>\n",
              "      <td>Manhattan Beach</td>\n",
              "      <td>40.58179</td>\n",
              "      <td>-73.95358</td>\n",
              "      <td>Shared room</td>\n",
              "      <td>99</td>\n",
              "      <td>2</td>\n",
              "      <td>1</td>\n",
              "      <td>2020-01-20</td>\n",
              "      <td>0.27</td>\n",
              "      <td>1</td>\n",
              "      <td>0</td>\n",
              "    </tr>\n",
              "    <tr>\n",
              "      <th>42287</th>\n",
              "      <td>39179129</td>\n",
              "      <td>Fantastic Brooklyn 2BR/2BA , next to beach, tr...</td>\n",
              "      <td>300626523</td>\n",
              "      <td>Mikhail</td>\n",
              "      <td>Brooklyn</td>\n",
              "      <td>Manhattan Beach</td>\n",
              "      <td>40.58017</td>\n",
              "      <td>-73.95355</td>\n",
              "      <td>Entire home/apt</td>\n",
              "      <td>150</td>\n",
              "      <td>1</td>\n",
              "      <td>2</td>\n",
              "      <td>2020-03-14</td>\n",
              "      <td>0.41</td>\n",
              "      <td>1</td>\n",
              "      <td>0</td>\n",
              "    </tr>\n",
              "    <tr>\n",
              "      <th>45274</th>\n",
              "      <td>40868021</td>\n",
              "      <td>Private Ocean Side 2BR Apt, 1 block from the o...</td>\n",
              "      <td>262874199</td>\n",
              "      <td>Rony</td>\n",
              "      <td>Brooklyn</td>\n",
              "      <td>Manhattan Beach</td>\n",
              "      <td>40.57885</td>\n",
              "      <td>-73.95163</td>\n",
              "      <td>Entire home/apt</td>\n",
              "      <td>69</td>\n",
              "      <td>3</td>\n",
              "      <td>1</td>\n",
              "      <td>2019-12-27</td>\n",
              "      <td>0.22</td>\n",
              "      <td>2</td>\n",
              "      <td>23</td>\n",
              "    </tr>\n",
              "    <tr>\n",
              "      <th>45768</th>\n",
              "      <td>41109511</td>\n",
              "      <td>3BR Upstairs, Private Oceanside (1 blk from oc...</td>\n",
              "      <td>262874199</td>\n",
              "      <td>Rony</td>\n",
              "      <td>Brooklyn</td>\n",
              "      <td>Manhattan Beach</td>\n",
              "      <td>40.57889</td>\n",
              "      <td>-73.95216</td>\n",
              "      <td>Entire home/apt</td>\n",
              "      <td>69</td>\n",
              "      <td>3</td>\n",
              "      <td>0</td>\n",
              "      <td>NaN</td>\n",
              "      <td>NaN</td>\n",
              "      <td>2</td>\n",
              "      <td>28</td>\n",
              "    </tr>\n",
              "  </tbody>\n",
              "</table>\n",
              "</div>"
            ],
            "text/plain": [
              "             id  ... availability_365\n",
              "7092    6179073  ...              304\n",
              "7468    6492185  ...              174\n",
              "14405  13107627  ...              220\n",
              "14515  13170159  ...              365\n",
              "14625  13243615  ...                0\n",
              "16531  14789008  ...                0\n",
              "16851  15158791  ...              347\n",
              "17154  15507375  ...              276\n",
              "23320  21260337  ...               88\n",
              "34665  32401290  ...                0\n",
              "42287  39179129  ...                0\n",
              "45274  40868021  ...               23\n",
              "45768  41109511  ...               28\n",
              "\n",
              "[13 rows x 16 columns]"
            ]
          },
          "metadata": {
            "tags": []
          },
          "execution_count": 22
        }
      ]
    },
    {
      "cell_type": "markdown",
      "metadata": {
        "id": "zcLlf4Ke9kpv",
        "colab_type": "text"
      },
      "source": [
        "Manhattan Beach presents a diferent behaviour. It has a small amount of cheap rooms and a **10000 US Dolars** room, which completely distort the mean value."
      ]
    },
    {
      "cell_type": "code",
      "metadata": {
        "id": "M2BMZi6U-om3",
        "colab_type": "code",
        "outputId": "b48c9248-1f17-4890-b7c1-756fa5f1df20",
        "colab": {
          "base_uri": "https://localhost:8080/",
          "height": 366
        }
      },
      "source": [
        "df[df['neighbourhood'] == \"Prince's Bay\"]"
      ],
      "execution_count": 23,
      "outputs": [
        {
          "output_type": "execute_result",
          "data": {
            "text/html": [
              "<div>\n",
              "<style scoped>\n",
              "    .dataframe tbody tr th:only-of-type {\n",
              "        vertical-align: middle;\n",
              "    }\n",
              "\n",
              "    .dataframe tbody tr th {\n",
              "        vertical-align: top;\n",
              "    }\n",
              "\n",
              "    .dataframe thead th {\n",
              "        text-align: right;\n",
              "    }\n",
              "</style>\n",
              "<table border=\"1\" class=\"dataframe\">\n",
              "  <thead>\n",
              "    <tr style=\"text-align: right;\">\n",
              "      <th></th>\n",
              "      <th>id</th>\n",
              "      <th>name</th>\n",
              "      <th>host_id</th>\n",
              "      <th>host_name</th>\n",
              "      <th>neighbourhood_group</th>\n",
              "      <th>neighbourhood</th>\n",
              "      <th>latitude</th>\n",
              "      <th>longitude</th>\n",
              "      <th>room_type</th>\n",
              "      <th>price</th>\n",
              "      <th>minimum_nights</th>\n",
              "      <th>number_of_reviews</th>\n",
              "      <th>last_review</th>\n",
              "      <th>reviews_per_month</th>\n",
              "      <th>calculated_host_listings_count</th>\n",
              "      <th>availability_365</th>\n",
              "    </tr>\n",
              "  </thead>\n",
              "  <tbody>\n",
              "    <tr>\n",
              "      <th>16322</th>\n",
              "      <td>14506086</td>\n",
              "      <td>Cute Lofted Apt.</td>\n",
              "      <td>22847606</td>\n",
              "      <td>Patricia</td>\n",
              "      <td>Staten Island</td>\n",
              "      <td>Prince's Bay</td>\n",
              "      <td>40.52211</td>\n",
              "      <td>-74.18028</td>\n",
              "      <td>Entire home/apt</td>\n",
              "      <td>185</td>\n",
              "      <td>2</td>\n",
              "      <td>15</td>\n",
              "      <td>2018-08-07</td>\n",
              "      <td>0.34</td>\n",
              "      <td>1</td>\n",
              "      <td>0</td>\n",
              "    </tr>\n",
              "    <tr>\n",
              "      <th>35977</th>\n",
              "      <td>33804180</td>\n",
              "      <td>STATEN ISLD UNIVER. HOSPITAL SOUTH - 10 MIN AWAY</td>\n",
              "      <td>163169045</td>\n",
              "      <td>Janice</td>\n",
              "      <td>Staten Island</td>\n",
              "      <td>Prince's Bay</td>\n",
              "      <td>40.52293</td>\n",
              "      <td>-74.21238</td>\n",
              "      <td>Entire home/apt</td>\n",
              "      <td>85</td>\n",
              "      <td>2</td>\n",
              "      <td>28</td>\n",
              "      <td>2020-03-03</td>\n",
              "      <td>2.23</td>\n",
              "      <td>1</td>\n",
              "      <td>119</td>\n",
              "    </tr>\n",
              "    <tr>\n",
              "      <th>37182</th>\n",
              "      <td>34835762</td>\n",
              "      <td>Central Hall Colonial with Free Parking Bus EX...</td>\n",
              "      <td>252051657</td>\n",
              "      <td>Anastasios</td>\n",
              "      <td>Staten Island</td>\n",
              "      <td>Prince's Bay</td>\n",
              "      <td>40.53076</td>\n",
              "      <td>-74.20295</td>\n",
              "      <td>Entire home/apt</td>\n",
              "      <td>1250</td>\n",
              "      <td>14</td>\n",
              "      <td>0</td>\n",
              "      <td>NaN</td>\n",
              "      <td>NaN</td>\n",
              "      <td>1</td>\n",
              "      <td>0</td>\n",
              "    </tr>\n",
              "  </tbody>\n",
              "</table>\n",
              "</div>"
            ],
            "text/plain": [
              "             id  ... availability_365\n",
              "16322  14506086  ...                0\n",
              "35977  33804180  ...              119\n",
              "37182  34835762  ...                0\n",
              "\n",
              "[3 rows x 16 columns]"
            ]
          },
          "metadata": {
            "tags": []
          },
          "execution_count": 23
        }
      ]
    },
    {
      "cell_type": "markdown",
      "metadata": {
        "id": "W1IarHrtOpUO",
        "colab_type": "text"
      },
      "source": [
        "Prince`s Bays has only 3 rooms, with one room with a 1250 dolars price per night, making the mean go way higher than it should. \n",
        "\n",
        "So let`s clear this values and see what the mean price by neighbourhood should look like."
      ]
    },
    {
      "cell_type": "code",
      "metadata": {
        "id": "V8DSPb5DPKnt",
        "colab_type": "code",
        "colab": {
          "base_uri": "https://localhost:8080/",
          "height": 221
        },
        "outputId": "5f138ad8-23d4-4e06-ce44-6c5829ca379e"
      },
      "source": [
        "df.groupby(['neighbourhood']).price.mean().sort_values(ascending=False)[5:15]"
      ],
      "execution_count": 24,
      "outputs": [
        {
          "output_type": "execute_result",
          "data": {
            "text/plain": [
              "neighbourhood\n",
              "Midtown              503.619188\n",
              "Theater District     487.131805\n",
              "Tribeca              418.358974\n",
              "Sea Gate             369.076923\n",
              "Riverdale            337.000000\n",
              "Flatiron District    328.487179\n",
              "Willowbrook          309.000000\n",
              "Fieldston            287.538462\n",
              "NoHo                 269.773810\n",
              "Little Italy         263.469136\n",
              "Name: price, dtype: float64"
            ]
          },
          "metadata": {
            "tags": []
          },
          "execution_count": 24
        }
      ]
    },
    {
      "cell_type": "markdown",
      "metadata": {
        "id": "pmBCl8x7Uw3r",
        "colab_type": "text"
      },
      "source": [
        "To finish this topic let`s see how this rooms are distributed geographically."
      ]
    },
    {
      "cell_type": "code",
      "metadata": {
        "id": "odmL_QNyU7qJ",
        "colab_type": "code",
        "colab": {
          "base_uri": "https://localhost:8080/",
          "height": 693
        },
        "outputId": "41233e0a-2219-4d9a-abd8-788d96ef4f08"
      },
      "source": [
        "df.plot(kind='scatter', x = 'longitude', y ='latitude', alpha=0.6, c=df['price']\n",
        "        , s=4, cmap = plt.get_cmap('jet'), figsize = (18,12));"
      ],
      "execution_count": 36,
      "outputs": [
        {
          "output_type": "display_data",
          "data": {
            "image/png": "[encoded data removed]",
            "text/plain": [
              "<Figure size 1296x864 with 2 Axes>"
            ]
          },
          "metadata": {
            "tags": [],
            "needs_background": "light"
          }
        }
      ]
    },
    {
      "cell_type": "markdown",
      "metadata": {
        "id": "8cH1oXaZWDjC",
        "colab_type": "text"
      },
      "source": [
        "This maps clearly shows the manhatan and brooklyin are the areas with the most amount of rooms. Also, manhatan has the most amount of expesive rooms, which is visible by the brighter dots at the island.\n",
        "\n",
        "This huge retangular white void at the manhatan island is the Central park, where there is no building at all."
      ]
    },
    {
      "cell_type": "markdown",
      "metadata": {
        "id": "vTneAMRUYvr1",
        "colab_type": "text"
      },
      "source": [
        "### **Q8.What is the mean minimum nights required to rent a room ?**\n",
        "\n",
        "Now that we alredy now information about the prices and room types,, we will be exploring the minimun nights required to stay at a room. \n",
        "\n",
        "First we are gonna make a view on the statistical data about this variable."
      ]
    },
    {
      "cell_type": "code",
      "metadata": {
        "id": "_VzNhrEgY82N",
        "colab_type": "code",
        "colab": {
          "base_uri": "https://localhost:8080/",
          "height": 170
        },
        "outputId": "e8b6ed52-8998-4647-c2d6-b4bea30095e8"
      },
      "source": [
        "# see statisticla data abou minimum nights \n",
        "df.minimum_nights.describe()"
      ],
      "execution_count": 27,
      "outputs": [
        {
          "output_type": "execute_result",
          "data": {
            "text/plain": [
              "count    50246.000000\n",
              "mean         7.912968\n",
              "std         21.472286\n",
              "min          1.000000\n",
              "25%          1.000000\n",
              "50%          3.000000\n",
              "75%          5.000000\n",
              "max       1250.000000\n",
              "Name: minimum_nights, dtype: float64"
            ]
          },
          "metadata": {
            "tags": []
          },
          "execution_count": 27
        }
      ]
    },
    {
      "cell_type": "markdown",
      "metadata": {
        "id": "AJPemDSTR4o0",
        "colab_type": "text"
      },
      "source": [
        "Was we said earlier, the outliers seems to be distorting a lot our mean value. As you can see this column has a huge standard deviation, meaning we cant trust too much in this mean value of 7.9.\n",
        "\n",
        "Also as you can see 75% of the apartments has a minimun nights value of 5 or less, proving that this mean value doesn`t correlate to the reality your expected to face when renting a room."
      ]
    },
    {
      "cell_type": "markdown",
      "metadata": {
        "id": "GkvAg623RjoR",
        "colab_type": "text"
      },
      "source": [
        "## Conclusions\n"
      ]
    },
    {
      "cell_type": "markdown",
      "metadata": {
        "id": "rbZ3Hsy9Ypw8",
        "colab_type": "text"
      },
      "source": [
        "This is only a brief and superficial analysis of the airbnb data, but its clear that there are outliers in some variables, more especifically at the `price` and `minimum_nights` columns.\n",
        "\n",
        "Its also very noticeable that some neighbourhoods have a small number off rooms, distorting some estatistical values and messing up with some information.\n",
        "\n",
        "At last, this is a simpler version of the of the New York Airbnb data set, so there is alot more data that can be extracted at the full version. The full data set has 106 columns."
      ]
    }
  ]
}